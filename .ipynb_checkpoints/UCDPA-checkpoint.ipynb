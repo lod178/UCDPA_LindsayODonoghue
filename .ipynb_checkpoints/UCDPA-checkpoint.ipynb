{
 "cells": [
  {
   "cell_type": "code",
   "execution_count": 7,
   "id": "da2ef094",
   "metadata": {},
   "outputs": [],
   "source": [
    "import pandas as pd\n",
    "CostofLiving2022= pd.read_csv(r'C:\\Users\\linds\\OneDrive\\Documents\\UCDPAData\\World_Population_Review_2022.csv')"
   ]
  },
  {
   "cell_type": "code",
   "execution_count": 8,
   "id": "6acdccca",
   "metadata": {},
   "outputs": [
    {
     "data": {
      "text/html": [
       "<div>\n",
       "<style scoped>\n",
       "    .dataframe tbody tr th:only-of-type {\n",
       "        vertical-align: middle;\n",
       "    }\n",
       "\n",
       "    .dataframe tbody tr th {\n",
       "        vertical-align: top;\n",
       "    }\n",
       "\n",
       "    .dataframe thead th {\n",
       "        text-align: right;\n",
       "    }\n",
       "</style>\n",
       "<table border=\"1\" class=\"dataframe\">\n",
       "  <thead>\n",
       "    <tr style=\"text-align: right;\">\n",
       "      <th></th>\n",
       "      <th>ranking</th>\n",
       "      <th>country</th>\n",
       "      <th>costLivingIndex</th>\n",
       "      <th>rentIndex</th>\n",
       "      <th>costLivingPlusRentIndex</th>\n",
       "      <th>groceriesIndex</th>\n",
       "      <th>restaurantPriceIndex</th>\n",
       "      <th>localPurchasingPowerIndex</th>\n",
       "    </tr>\n",
       "  </thead>\n",
       "  <tbody>\n",
       "    <tr>\n",
       "      <th>0</th>\n",
       "      <td>1</td>\n",
       "      <td>Bermuda</td>\n",
       "      <td>147.77</td>\n",
       "      <td>85.70</td>\n",
       "      <td>117.54</td>\n",
       "      <td>146.63</td>\n",
       "      <td>152.52</td>\n",
       "      <td>78.17</td>\n",
       "    </tr>\n",
       "    <tr>\n",
       "      <th>1</th>\n",
       "      <td>2</td>\n",
       "      <td>Switzerland</td>\n",
       "      <td>125.69</td>\n",
       "      <td>51.20</td>\n",
       "      <td>89.41</td>\n",
       "      <td>124.93</td>\n",
       "      <td>118.55</td>\n",
       "      <td>114.83</td>\n",
       "    </tr>\n",
       "    <tr>\n",
       "      <th>2</th>\n",
       "      <td>3</td>\n",
       "      <td>Norway</td>\n",
       "      <td>96.80</td>\n",
       "      <td>32.61</td>\n",
       "      <td>65.54</td>\n",
       "      <td>89.55</td>\n",
       "      <td>96.81</td>\n",
       "      <td>83.40</td>\n",
       "    </tr>\n",
       "    <tr>\n",
       "      <th>3</th>\n",
       "      <td>4</td>\n",
       "      <td>Iceland</td>\n",
       "      <td>90.19</td>\n",
       "      <td>38.54</td>\n",
       "      <td>65.04</td>\n",
       "      <td>80.91</td>\n",
       "      <td>97.17</td>\n",
       "      <td>74.78</td>\n",
       "    </tr>\n",
       "    <tr>\n",
       "      <th>4</th>\n",
       "      <td>5</td>\n",
       "      <td>Japan</td>\n",
       "      <td>86.22</td>\n",
       "      <td>26.18</td>\n",
       "      <td>56.98</td>\n",
       "      <td>86.84</td>\n",
       "      <td>48.07</td>\n",
       "      <td>78.88</td>\n",
       "    </tr>\n",
       "  </tbody>\n",
       "</table>\n",
       "</div>"
      ],
      "text/plain": [
       "   ranking      country  costLivingIndex  rentIndex  costLivingPlusRentIndex  \\\n",
       "0        1      Bermuda           147.77      85.70                   117.54   \n",
       "1        2  Switzerland           125.69      51.20                    89.41   \n",
       "2        3       Norway            96.80      32.61                    65.54   \n",
       "3        4      Iceland            90.19      38.54                    65.04   \n",
       "4        5        Japan            86.22      26.18                    56.98   \n",
       "\n",
       "   groceriesIndex  restaurantPriceIndex  localPurchasingPowerIndex  \n",
       "0          146.63                152.52                      78.17  \n",
       "1          124.93                118.55                     114.83  \n",
       "2           89.55                 96.81                      83.40  \n",
       "3           80.91                 97.17                      74.78  \n",
       "4           86.84                 48.07                      78.88  "
      ]
     },
     "execution_count": 8,
     "metadata": {},
     "output_type": "execute_result"
    }
   ],
   "source": [
    "CostofLiving2022.head()"
   ]
  },
  {
   "cell_type": "code",
   "execution_count": 9,
   "id": "9e33628d",
   "metadata": {},
   "outputs": [
    {
     "data": {
      "text/plain": [
       "(132, 8)"
      ]
     },
     "execution_count": 9,
     "metadata": {},
     "output_type": "execute_result"
    }
   ],
   "source": [
    "CostofLiving2022.shape"
   ]
  },
  {
   "cell_type": "code",
   "execution_count": 10,
   "id": "53ee2ad0",
   "metadata": {},
   "outputs": [
    {
     "name": "stdout",
     "output_type": "stream",
     "text": [
      "     ranking      country  costLivingIndex  rentIndex  \\\n",
      "0          1      Bermuda           147.77      85.70   \n",
      "1          2  Switzerland           125.69      51.20   \n",
      "2          3       Norway            96.80      32.61   \n",
      "3          4      Iceland            90.19      38.54   \n",
      "4          5        Japan            86.22      26.18   \n",
      "..       ...          ...              ...        ...   \n",
      "127      131        Syria            27.04       5.77   \n",
      "128      132  Afghanistan            26.71       3.99   \n",
      "129      133   Kyrgyzstan            24.70       7.78   \n",
      "130      134        India            24.12       5.50   \n",
      "131      135     Pakistan            21.00       4.28   \n",
      "\n",
      "     costLivingPlusRentIndex  groceriesIndex  restaurantPriceIndex  \\\n",
      "0                     117.54          146.63                152.52   \n",
      "1                      89.41          124.93                118.55   \n",
      "2                      65.54           89.55                 96.81   \n",
      "3                      65.04           80.91                 97.17   \n",
      "4                      56.98           86.84                 48.07   \n",
      "..                       ...             ...                   ...   \n",
      "127                    16.68           24.42                 23.21   \n",
      "128                    15.65           18.99                 18.48   \n",
      "129                    16.46           21.76                 20.96   \n",
      "130                    15.05           24.57                 16.38   \n",
      "131                    12.86           18.21                 16.25   \n",
      "\n",
      "     localPurchasingPowerIndex  \n",
      "0                        78.17  \n",
      "1                       114.83  \n",
      "2                        83.40  \n",
      "3                        74.78  \n",
      "4                        78.88  \n",
      "..                         ...  \n",
      "127                       9.48  \n",
      "128                      28.19  \n",
      "129                      23.56  \n",
      "130                      50.55  \n",
      "131                      28.39  \n",
      "\n",
      "[132 rows x 8 columns]\n"
     ]
    }
   ],
   "source": [
    "df = pd.DataFrame(CostofLiving2022)\n",
    "print (df)"
   ]
  },
  {
   "cell_type": "code",
   "execution_count": 11,
   "id": "d0759a0c",
   "metadata": {},
   "outputs": [],
   "source": [
    "CostofLiving2022_IndexChange = CostofLiving2022.set_index(\"country\")"
   ]
  },
  {
   "cell_type": "code",
   "execution_count": 13,
   "id": "52ceffae",
   "metadata": {},
   "outputs": [
    {
     "name": "stdout",
     "output_type": "stream",
     "text": [
      "             ranking  costLivingIndex  rentIndex  costLivingPlusRentIndex  \\\n",
      "country                                                                     \n",
      "Bermuda            1           147.77      85.70                   117.54   \n",
      "Switzerland        2           125.69      51.20                    89.41   \n",
      "Norway             3            96.80      32.61                    65.54   \n",
      "Iceland            4            90.19      38.54                    65.04   \n",
      "Japan              5            86.22      26.18                    56.98   \n",
      "...              ...              ...        ...                      ...   \n",
      "Syria            131            27.04       5.77                    16.68   \n",
      "Afghanistan      132            26.71       3.99                    15.65   \n",
      "Kyrgyzstan       133            24.70       7.78                    16.46   \n",
      "India            134            24.12       5.50                    15.05   \n",
      "Pakistan         135            21.00       4.28                    12.86   \n",
      "\n",
      "             groceriesIndex  restaurantPriceIndex  localPurchasingPowerIndex  \n",
      "country                                                                       \n",
      "Bermuda              146.63                152.52                      78.17  \n",
      "Switzerland          124.93                118.55                     114.83  \n",
      "Norway                89.55                 96.81                      83.40  \n",
      "Iceland               80.91                 97.17                      74.78  \n",
      "Japan                 86.84                 48.07                      78.88  \n",
      "...                     ...                   ...                        ...  \n",
      "Syria                 24.42                 23.21                       9.48  \n",
      "Afghanistan           18.99                 18.48                      28.19  \n",
      "Kyrgyzstan            21.76                 20.96                      23.56  \n",
      "India                 24.57                 16.38                      50.55  \n",
      "Pakistan              18.21                 16.25                      28.39  \n",
      "\n",
      "[132 rows x 7 columns]\n"
     ]
    }
   ],
   "source": [
    "print(CostofLiving2022_IndexChange)"
   ]
  },
  {
   "cell_type": "code",
   "execution_count": 14,
   "id": "3000389c",
   "metadata": {},
   "outputs": [],
   "source": [
    "CostofLiving2022_IndexChange.columns = ['Overall CoLiving Rank', 'CoLiving', 'Rent', 'CoLiving + Rent', 'Groceries', 'Restaurant Price', 'Local Purchasing Power']"
   ]
  },
  {
   "cell_type": "code",
   "execution_count": 15,
   "id": "7b0c75f6",
   "metadata": {},
   "outputs": [
    {
     "name": "stdout",
     "output_type": "stream",
     "text": [
      "             Overall CoLiving Rank  CoLiving   Rent  CoLiving + Rent  \\\n",
      "country                                                                \n",
      "Bermuda                          1    147.77  85.70           117.54   \n",
      "Switzerland                      2    125.69  51.20            89.41   \n",
      "Norway                           3     96.80  32.61            65.54   \n",
      "Iceland                          4     90.19  38.54            65.04   \n",
      "Japan                            5     86.22  26.18            56.98   \n",
      "\n",
      "             Groceries  Restaurant Price  Local Purchasing Power  \n",
      "country                                                           \n",
      "Bermuda         146.63            152.52                   78.17  \n",
      "Switzerland     124.93            118.55                  114.83  \n",
      "Norway           89.55             96.81                   83.40  \n",
      "Iceland          80.91             97.17                   74.78  \n",
      "Japan            86.84             48.07                   78.88  \n"
     ]
    }
   ],
   "source": [
    "print(CostofLiving2022_IndexChange.head())"
   ]
  },
  {
   "cell_type": "code",
   "execution_count": 17,
   "id": "bfc3437c",
   "metadata": {},
   "outputs": [
    {
     "data": {
      "text/plain": [
       "147.77"
      ]
     },
     "execution_count": 17,
     "metadata": {},
     "output_type": "execute_result"
    }
   ],
   "source": [
    "CostofLiving2022_IndexChange[\"CoLiving\"].max()"
   ]
  },
  {
   "cell_type": "code",
   "execution_count": 18,
   "id": "9c5fe1ef",
   "metadata": {},
   "outputs": [
    {
     "data": {
      "text/plain": [
       "21.0"
      ]
     },
     "execution_count": 18,
     "metadata": {},
     "output_type": "execute_result"
    }
   ],
   "source": [
    "CostofLiving2022_IndexChange[\"CoLiving\"].min()"
   ]
  },
  {
   "cell_type": "code",
   "execution_count": 19,
   "id": "89baff02",
   "metadata": {},
   "outputs": [
    {
     "data": {
      "text/plain": [
       "45.004999999999995"
      ]
     },
     "execution_count": 19,
     "metadata": {},
     "output_type": "execute_result"
    }
   ],
   "source": [
    "CostofLiving2022_IndexChange[\"CoLiving\"].median()"
   ]
  },
  {
   "cell_type": "code",
   "execution_count": 20,
   "id": "193d9a3b",
   "metadata": {},
   "outputs": [
    {
     "data": {
      "text/plain": [
       "CoLiving                  147.77\n",
       "Rent                       85.70\n",
       "CoLiving + Rent           117.54\n",
       "Groceries                 146.63\n",
       "Restaurant Price          152.52\n",
       "Local Purchasing Power    114.83\n",
       "dtype: float64"
      ]
     },
     "execution_count": 20,
     "metadata": {},
     "output_type": "execute_result"
    }
   ],
   "source": [
    "def maximum (column):\n",
    "    return column.max()\n",
    "\n",
    "CostofLiving2022_IndexChange[[\"CoLiving\", \"Rent\", \"CoLiving + Rent\", \"Groceries\", \"Restaurant Price\", \"Local Purchasing Power\"]].agg(maximum)"
   ]
  },
  {
   "cell_type": "code",
   "execution_count": 21,
   "id": "1c96f0ae",
   "metadata": {},
   "outputs": [
    {
     "name": "stdout",
     "output_type": "stream",
     "text": [
      "         Overall CoLiving Rank  CoLiving  Rent  CoLiving + Rent  Groceries  \\\n",
      "country                                                                      \n",
      "Bermuda                      1    147.77  85.7           117.54     146.63   \n",
      "\n",
      "         Restaurant Price  Local Purchasing Power  \n",
      "country                                            \n",
      "Bermuda            152.52                   78.17  \n"
     ]
    }
   ],
   "source": [
    "print(CostofLiving2022_IndexChange.loc[[\"Bermuda\"]])"
   ]
  },
  {
   "cell_type": "code",
   "execution_count": 22,
   "id": "0a61643e",
   "metadata": {},
   "outputs": [],
   "source": [
    "# Bermuda is the country with the highest Cost of Living in 2022. It scores highest across all data points except for 'Local Purchasing Power.' This implies that it is expensive to live in Bermuda and individuals have less money to spend or the money they have will enable them to buy less than in other countries. Line 20 shows the maximum values across all columns while line 21 shows the values of Bermuda."
   ]
  },
  {
   "cell_type": "code",
   "execution_count": 23,
   "id": "b9577266",
   "metadata": {},
   "outputs": [
    {
     "data": {
      "text/plain": [
       "2.05"
      ]
     },
     "execution_count": 23,
     "metadata": {},
     "output_type": "execute_result"
    }
   ],
   "source": [
    "CostofLiving2022_IndexChange[\"Local Purchasing Power\"].min()"
   ]
  },
  {
   "cell_type": "code",
   "execution_count": 24,
   "id": "3a1bd496",
   "metadata": {},
   "outputs": [
    {
     "data": {
      "text/plain": [
       "114.83"
      ]
     },
     "execution_count": 24,
     "metadata": {},
     "output_type": "execute_result"
    }
   ],
   "source": [
    "CostofLiving2022_IndexChange[\"Local Purchasing Power\"].max()"
   ]
  },
  {
   "cell_type": "code",
   "execution_count": 28,
   "id": "fec5e65c",
   "metadata": {},
   "outputs": [
    {
     "data": {
      "text/html": [
       "<div>\n",
       "<style scoped>\n",
       "    .dataframe tbody tr th:only-of-type {\n",
       "        vertical-align: middle;\n",
       "    }\n",
       "\n",
       "    .dataframe tbody tr th {\n",
       "        vertical-align: top;\n",
       "    }\n",
       "\n",
       "    .dataframe thead th {\n",
       "        text-align: right;\n",
       "    }\n",
       "</style>\n",
       "<table border=\"1\" class=\"dataframe\">\n",
       "  <thead>\n",
       "    <tr style=\"text-align: right;\">\n",
       "      <th></th>\n",
       "      <th>Overall CoLiving Rank</th>\n",
       "      <th>CoLiving</th>\n",
       "      <th>Rent</th>\n",
       "      <th>CoLiving + Rent</th>\n",
       "      <th>Groceries</th>\n",
       "      <th>Restaurant Price</th>\n",
       "      <th>Local Purchasing Power</th>\n",
       "    </tr>\n",
       "    <tr>\n",
       "      <th>country</th>\n",
       "      <th></th>\n",
       "      <th></th>\n",
       "      <th></th>\n",
       "      <th></th>\n",
       "      <th></th>\n",
       "      <th></th>\n",
       "      <th></th>\n",
       "    </tr>\n",
       "  </thead>\n",
       "  <tbody>\n",
       "    <tr>\n",
       "      <th>Switzerland</th>\n",
       "      <td>2</td>\n",
       "      <td>125.69</td>\n",
       "      <td>51.2</td>\n",
       "      <td>89.41</td>\n",
       "      <td>124.93</td>\n",
       "      <td>118.55</td>\n",
       "      <td>114.83</td>\n",
       "    </tr>\n",
       "  </tbody>\n",
       "</table>\n",
       "</div>"
      ],
      "text/plain": [
       "             Overall CoLiving Rank  CoLiving  Rent  CoLiving + Rent  \\\n",
       "country                                                               \n",
       "Switzerland                      2    125.69  51.2            89.41   \n",
       "\n",
       "             Groceries  Restaurant Price  Local Purchasing Power  \n",
       "country                                                           \n",
       "Switzerland     124.93            118.55                  114.83  "
      ]
     },
     "execution_count": 28,
     "metadata": {},
     "output_type": "execute_result"
    }
   ],
   "source": [
    "CostofLiving2022_IndexChange[(CostofLiving2022_IndexChange[\"Local Purchasing Power\"]==114.83)]"
   ]
  },
  {
   "cell_type": "code",
   "execution_count": 29,
   "id": "3c1a9ec0",
   "metadata": {},
   "outputs": [
    {
     "data": {
      "text/html": [
       "<div>\n",
       "<style scoped>\n",
       "    .dataframe tbody tr th:only-of-type {\n",
       "        vertical-align: middle;\n",
       "    }\n",
       "\n",
       "    .dataframe tbody tr th {\n",
       "        vertical-align: top;\n",
       "    }\n",
       "\n",
       "    .dataframe thead th {\n",
       "        text-align: right;\n",
       "    }\n",
       "</style>\n",
       "<table border=\"1\" class=\"dataframe\">\n",
       "  <thead>\n",
       "    <tr style=\"text-align: right;\">\n",
       "      <th></th>\n",
       "      <th>Overall CoLiving Rank</th>\n",
       "      <th>CoLiving</th>\n",
       "      <th>Rent</th>\n",
       "      <th>CoLiving + Rent</th>\n",
       "      <th>Groceries</th>\n",
       "      <th>Restaurant Price</th>\n",
       "      <th>Local Purchasing Power</th>\n",
       "    </tr>\n",
       "    <tr>\n",
       "      <th>country</th>\n",
       "      <th></th>\n",
       "      <th></th>\n",
       "      <th></th>\n",
       "      <th></th>\n",
       "      <th></th>\n",
       "      <th></th>\n",
       "      <th></th>\n",
       "    </tr>\n",
       "  </thead>\n",
       "  <tbody>\n",
       "    <tr>\n",
       "      <th>Cuba</th>\n",
       "      <td>71</td>\n",
       "      <td>43.85</td>\n",
       "      <td>4.3</td>\n",
       "      <td>23.59</td>\n",
       "      <td>38.63</td>\n",
       "      <td>32.13</td>\n",
       "      <td>2.05</td>\n",
       "    </tr>\n",
       "  </tbody>\n",
       "</table>\n",
       "</div>"
      ],
      "text/plain": [
       "         Overall CoLiving Rank  CoLiving  Rent  CoLiving + Rent  Groceries  \\\n",
       "country                                                                      \n",
       "Cuba                        71     43.85   4.3            23.59      38.63   \n",
       "\n",
       "         Restaurant Price  Local Purchasing Power  \n",
       "country                                            \n",
       "Cuba                32.13                    2.05  "
      ]
     },
     "execution_count": 29,
     "metadata": {},
     "output_type": "execute_result"
    }
   ],
   "source": [
    "CostofLiving2022_IndexChange[(CostofLiving2022_IndexChange[\"Local Purchasing Power\"]==2.05)]"
   ]
  },
  {
   "cell_type": "code",
   "execution_count": 30,
   "id": "c07fd274",
   "metadata": {},
   "outputs": [],
   "source": [
    "# Switzerland is the country with the most 'Local Purchasing Power' in 2022 at 114.83 while Cuba is the country with the least purchasing power in 2022 at 2.05."
   ]
  },
  {
   "cell_type": "code",
   "execution_count": 31,
   "id": "e5cde8d3",
   "metadata": {},
   "outputs": [
    {
     "data": {
      "text/html": [
       "<div>\n",
       "<style scoped>\n",
       "    .dataframe tbody tr th:only-of-type {\n",
       "        vertical-align: middle;\n",
       "    }\n",
       "\n",
       "    .dataframe tbody tr th {\n",
       "        vertical-align: top;\n",
       "    }\n",
       "\n",
       "    .dataframe thead th {\n",
       "        text-align: right;\n",
       "    }\n",
       "</style>\n",
       "<table border=\"1\" class=\"dataframe\">\n",
       "  <thead>\n",
       "    <tr style=\"text-align: right;\">\n",
       "      <th></th>\n",
       "      <th>Overall CoLiving Rank</th>\n",
       "      <th>CoLiving</th>\n",
       "      <th>Rent</th>\n",
       "      <th>CoLiving + Rent</th>\n",
       "      <th>Groceries</th>\n",
       "      <th>Restaurant Price</th>\n",
       "      <th>Local Purchasing Power</th>\n",
       "    </tr>\n",
       "    <tr>\n",
       "      <th>country</th>\n",
       "      <th></th>\n",
       "      <th></th>\n",
       "      <th></th>\n",
       "      <th></th>\n",
       "      <th></th>\n",
       "      <th></th>\n",
       "      <th></th>\n",
       "    </tr>\n",
       "  </thead>\n",
       "  <tbody>\n",
       "    <tr>\n",
       "      <th>Switzerland</th>\n",
       "      <td>2</td>\n",
       "      <td>125.69</td>\n",
       "      <td>51.20</td>\n",
       "      <td>89.41</td>\n",
       "      <td>124.93</td>\n",
       "      <td>118.55</td>\n",
       "      <td>114.83</td>\n",
       "    </tr>\n",
       "    <tr>\n",
       "      <th>United States</th>\n",
       "      <td>21</td>\n",
       "      <td>72.47</td>\n",
       "      <td>40.07</td>\n",
       "      <td>56.69</td>\n",
       "      <td>69.68</td>\n",
       "      <td>68.29</td>\n",
       "      <td>108.29</td>\n",
       "    </tr>\n",
       "    <tr>\n",
       "      <th>Australia</th>\n",
       "      <td>16</td>\n",
       "      <td>75.89</td>\n",
       "      <td>34.18</td>\n",
       "      <td>55.58</td>\n",
       "      <td>70.62</td>\n",
       "      <td>68.88</td>\n",
       "      <td>103.38</td>\n",
       "    </tr>\n",
       "    <tr>\n",
       "      <th>Denmark</th>\n",
       "      <td>6</td>\n",
       "      <td>85.02</td>\n",
       "      <td>33.10</td>\n",
       "      <td>59.74</td>\n",
       "      <td>65.86</td>\n",
       "      <td>95.71</td>\n",
       "      <td>101.27</td>\n",
       "    </tr>\n",
       "    <tr>\n",
       "      <th>Luxembourg</th>\n",
       "      <td>7</td>\n",
       "      <td>84.38</td>\n",
       "      <td>55.11</td>\n",
       "      <td>70.13</td>\n",
       "      <td>74.03</td>\n",
       "      <td>86.29</td>\n",
       "      <td>99.86</td>\n",
       "    </tr>\n",
       "    <tr>\n",
       "      <th>...</th>\n",
       "      <td>...</td>\n",
       "      <td>...</td>\n",
       "      <td>...</td>\n",
       "      <td>...</td>\n",
       "      <td>...</td>\n",
       "      <td>...</td>\n",
       "      <td>...</td>\n",
       "    </tr>\n",
       "    <tr>\n",
       "      <th>Nigeria</th>\n",
       "      <td>122</td>\n",
       "      <td>29.76</td>\n",
       "      <td>27.24</td>\n",
       "      <td>28.53</td>\n",
       "      <td>30.39</td>\n",
       "      <td>17.66</td>\n",
       "      <td>11.10</td>\n",
       "    </tr>\n",
       "    <tr>\n",
       "      <th>Myanmar</th>\n",
       "      <td>88</td>\n",
       "      <td>38.47</td>\n",
       "      <td>26.72</td>\n",
       "      <td>32.75</td>\n",
       "      <td>39.35</td>\n",
       "      <td>20.68</td>\n",
       "      <td>10.33</td>\n",
       "    </tr>\n",
       "    <tr>\n",
       "      <th>Syria</th>\n",
       "      <td>131</td>\n",
       "      <td>27.04</td>\n",
       "      <td>5.77</td>\n",
       "      <td>16.68</td>\n",
       "      <td>24.42</td>\n",
       "      <td>23.21</td>\n",
       "      <td>9.48</td>\n",
       "    </tr>\n",
       "    <tr>\n",
       "      <th>Ethiopia</th>\n",
       "      <td>46</td>\n",
       "      <td>54.86</td>\n",
       "      <td>15.43</td>\n",
       "      <td>35.66</td>\n",
       "      <td>38.08</td>\n",
       "      <td>20.18</td>\n",
       "      <td>9.13</td>\n",
       "    </tr>\n",
       "    <tr>\n",
       "      <th>Cuba</th>\n",
       "      <td>71</td>\n",
       "      <td>43.85</td>\n",
       "      <td>4.30</td>\n",
       "      <td>23.59</td>\n",
       "      <td>38.63</td>\n",
       "      <td>32.13</td>\n",
       "      <td>2.05</td>\n",
       "    </tr>\n",
       "  </tbody>\n",
       "</table>\n",
       "<p>132 rows × 7 columns</p>\n",
       "</div>"
      ],
      "text/plain": [
       "               Overall CoLiving Rank  CoLiving   Rent  CoLiving + Rent  \\\n",
       "country                                                                  \n",
       "Switzerland                        2    125.69  51.20            89.41   \n",
       "United States                     21     72.47  40.07            56.69   \n",
       "Australia                         16     75.89  34.18            55.58   \n",
       "Denmark                            6     85.02  33.10            59.74   \n",
       "Luxembourg                         7     84.38  55.11            70.13   \n",
       "...                              ...       ...    ...              ...   \n",
       "Nigeria                          122     29.76  27.24            28.53   \n",
       "Myanmar                           88     38.47  26.72            32.75   \n",
       "Syria                            131     27.04   5.77            16.68   \n",
       "Ethiopia                          46     54.86  15.43            35.66   \n",
       "Cuba                              71     43.85   4.30            23.59   \n",
       "\n",
       "               Groceries  Restaurant Price  Local Purchasing Power  \n",
       "country                                                             \n",
       "Switzerland       124.93            118.55                  114.83  \n",
       "United States      69.68             68.29                  108.29  \n",
       "Australia          70.62             68.88                  103.38  \n",
       "Denmark            65.86             95.71                  101.27  \n",
       "Luxembourg         74.03             86.29                   99.86  \n",
       "...                  ...               ...                     ...  \n",
       "Nigeria            30.39             17.66                   11.10  \n",
       "Myanmar            39.35             20.68                   10.33  \n",
       "Syria              24.42             23.21                    9.48  \n",
       "Ethiopia           38.08             20.18                    9.13  \n",
       "Cuba               38.63             32.13                    2.05  \n",
       "\n",
       "[132 rows x 7 columns]"
      ]
     },
     "execution_count": 31,
     "metadata": {},
     "output_type": "execute_result"
    }
   ],
   "source": [
    "CostofLiving2022_IndexChange.sort_values(\"Local Purchasing Power\", ascending=False)"
   ]
  },
  {
   "cell_type": "code",
   "execution_count": 32,
   "id": "a1319d59",
   "metadata": {},
   "outputs": [],
   "source": [
    "# The countries that are in Europe, America and Australia have the mose Local Purchasing Power while African countries have lower Local Purchasing Power"
   ]
  },
  {
   "cell_type": "code",
   "execution_count": 35,
   "id": "c5c64c3a",
   "metadata": {},
   "outputs": [
    {
     "data": {
      "text/html": [
       "<div>\n",
       "<style scoped>\n",
       "    .dataframe tbody tr th:only-of-type {\n",
       "        vertical-align: middle;\n",
       "    }\n",
       "\n",
       "    .dataframe tbody tr th {\n",
       "        vertical-align: top;\n",
       "    }\n",
       "\n",
       "    .dataframe thead th {\n",
       "        text-align: right;\n",
       "    }\n",
       "</style>\n",
       "<table border=\"1\" class=\"dataframe\">\n",
       "  <thead>\n",
       "    <tr style=\"text-align: right;\">\n",
       "      <th></th>\n",
       "      <th>Overall CoLiving Rank</th>\n",
       "      <th>CoLiving</th>\n",
       "      <th>Rent</th>\n",
       "      <th>CoLiving + Rent</th>\n",
       "      <th>Groceries</th>\n",
       "      <th>Restaurant Price</th>\n",
       "      <th>Local Purchasing Power</th>\n",
       "    </tr>\n",
       "    <tr>\n",
       "      <th>country</th>\n",
       "      <th></th>\n",
       "      <th></th>\n",
       "      <th></th>\n",
       "      <th></th>\n",
       "      <th></th>\n",
       "      <th></th>\n",
       "      <th></th>\n",
       "    </tr>\n",
       "  </thead>\n",
       "  <tbody>\n",
       "    <tr>\n",
       "      <th>Bermuda</th>\n",
       "      <td>1</td>\n",
       "      <td>147.77</td>\n",
       "      <td>85.70</td>\n",
       "      <td>117.54</td>\n",
       "      <td>146.63</td>\n",
       "      <td>152.52</td>\n",
       "      <td>78.17</td>\n",
       "    </tr>\n",
       "    <tr>\n",
       "      <th>Switzerland</th>\n",
       "      <td>2</td>\n",
       "      <td>125.69</td>\n",
       "      <td>51.20</td>\n",
       "      <td>89.41</td>\n",
       "      <td>124.93</td>\n",
       "      <td>118.55</td>\n",
       "      <td>114.83</td>\n",
       "    </tr>\n",
       "    <tr>\n",
       "      <th>Norway</th>\n",
       "      <td>3</td>\n",
       "      <td>96.80</td>\n",
       "      <td>32.61</td>\n",
       "      <td>65.54</td>\n",
       "      <td>89.55</td>\n",
       "      <td>96.81</td>\n",
       "      <td>83.40</td>\n",
       "    </tr>\n",
       "    <tr>\n",
       "      <th>Iceland</th>\n",
       "      <td>4</td>\n",
       "      <td>90.19</td>\n",
       "      <td>38.54</td>\n",
       "      <td>65.04</td>\n",
       "      <td>80.91</td>\n",
       "      <td>97.17</td>\n",
       "      <td>74.78</td>\n",
       "    </tr>\n",
       "    <tr>\n",
       "      <th>Japan</th>\n",
       "      <td>5</td>\n",
       "      <td>86.22</td>\n",
       "      <td>26.18</td>\n",
       "      <td>56.98</td>\n",
       "      <td>86.84</td>\n",
       "      <td>48.07</td>\n",
       "      <td>78.88</td>\n",
       "    </tr>\n",
       "    <tr>\n",
       "      <th>...</th>\n",
       "      <td>...</td>\n",
       "      <td>...</td>\n",
       "      <td>...</td>\n",
       "      <td>...</td>\n",
       "      <td>...</td>\n",
       "      <td>...</td>\n",
       "      <td>...</td>\n",
       "    </tr>\n",
       "    <tr>\n",
       "      <th>Syria</th>\n",
       "      <td>131</td>\n",
       "      <td>27.04</td>\n",
       "      <td>5.77</td>\n",
       "      <td>16.68</td>\n",
       "      <td>24.42</td>\n",
       "      <td>23.21</td>\n",
       "      <td>9.48</td>\n",
       "    </tr>\n",
       "    <tr>\n",
       "      <th>Afghanistan</th>\n",
       "      <td>132</td>\n",
       "      <td>26.71</td>\n",
       "      <td>3.99</td>\n",
       "      <td>15.65</td>\n",
       "      <td>18.99</td>\n",
       "      <td>18.48</td>\n",
       "      <td>28.19</td>\n",
       "    </tr>\n",
       "    <tr>\n",
       "      <th>Kyrgyzstan</th>\n",
       "      <td>133</td>\n",
       "      <td>24.70</td>\n",
       "      <td>7.78</td>\n",
       "      <td>16.46</td>\n",
       "      <td>21.76</td>\n",
       "      <td>20.96</td>\n",
       "      <td>23.56</td>\n",
       "    </tr>\n",
       "    <tr>\n",
       "      <th>India</th>\n",
       "      <td>134</td>\n",
       "      <td>24.12</td>\n",
       "      <td>5.50</td>\n",
       "      <td>15.05</td>\n",
       "      <td>24.57</td>\n",
       "      <td>16.38</td>\n",
       "      <td>50.55</td>\n",
       "    </tr>\n",
       "    <tr>\n",
       "      <th>Pakistan</th>\n",
       "      <td>135</td>\n",
       "      <td>21.00</td>\n",
       "      <td>4.28</td>\n",
       "      <td>12.86</td>\n",
       "      <td>18.21</td>\n",
       "      <td>16.25</td>\n",
       "      <td>28.39</td>\n",
       "    </tr>\n",
       "  </tbody>\n",
       "</table>\n",
       "<p>132 rows × 7 columns</p>\n",
       "</div>"
      ],
      "text/plain": [
       "             Overall CoLiving Rank  CoLiving   Rent  CoLiving + Rent  \\\n",
       "country                                                                \n",
       "Bermuda                          1    147.77  85.70           117.54   \n",
       "Switzerland                      2    125.69  51.20            89.41   \n",
       "Norway                           3     96.80  32.61            65.54   \n",
       "Iceland                          4     90.19  38.54            65.04   \n",
       "Japan                            5     86.22  26.18            56.98   \n",
       "...                            ...       ...    ...              ...   \n",
       "Syria                          131     27.04   5.77            16.68   \n",
       "Afghanistan                    132     26.71   3.99            15.65   \n",
       "Kyrgyzstan                     133     24.70   7.78            16.46   \n",
       "India                          134     24.12   5.50            15.05   \n",
       "Pakistan                       135     21.00   4.28            12.86   \n",
       "\n",
       "             Groceries  Restaurant Price  Local Purchasing Power  \n",
       "country                                                           \n",
       "Bermuda         146.63            152.52                   78.17  \n",
       "Switzerland     124.93            118.55                  114.83  \n",
       "Norway           89.55             96.81                   83.40  \n",
       "Iceland          80.91             97.17                   74.78  \n",
       "Japan            86.84             48.07                   78.88  \n",
       "...                ...               ...                     ...  \n",
       "Syria            24.42             23.21                    9.48  \n",
       "Afghanistan      18.99             18.48                   28.19  \n",
       "Kyrgyzstan       21.76             20.96                   23.56  \n",
       "India            24.57             16.38                   50.55  \n",
       "Pakistan         18.21             16.25                   28.39  \n",
       "\n",
       "[132 rows x 7 columns]"
      ]
     },
     "execution_count": 35,
     "metadata": {},
     "output_type": "execute_result"
    }
   ],
   "source": [
    "CostofLiving2022_IndexChange.sort_values(\"CoLiving\", ascending=False)"
   ]
  },
  {
   "cell_type": "code",
   "execution_count": 36,
   "id": "2d18ad21",
   "metadata": {},
   "outputs": [],
   "source": [
    "# In 2022 countries from Europe, America and Asia have the highest cost of living while countries in the Middle East and India appear to have the lowest cost of living"
   ]
  },
  {
   "cell_type": "code",
   "execution_count": 37,
   "id": "2b8468d9",
   "metadata": {},
   "outputs": [],
   "source": [
    "# The cost of living, rent, groceries and restaurant prices appear to stay broadly in alignment while local purchasing power differs"
   ]
  },
  {
   "cell_type": "code",
   "execution_count": null,
   "id": "125dfcb7",
   "metadata": {},
   "outputs": [],
   "source": []
  }
 ],
 "metadata": {
  "kernelspec": {
   "display_name": "Python 3",
   "language": "python",
   "name": "python3"
  },
  "language_info": {
   "codemirror_mode": {
    "name": "ipython",
    "version": 3
   },
   "file_extension": ".py",
   "mimetype": "text/x-python",
   "name": "python",
   "nbconvert_exporter": "python",
   "pygments_lexer": "ipython3",
   "version": "3.8.8"
  }
 },
 "nbformat": 4,
 "nbformat_minor": 5
}
