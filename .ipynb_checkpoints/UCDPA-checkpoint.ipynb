{
 "cells": [
  {
   "cell_type": "code",
   "execution_count": 97,
   "id": "da2ef094",
   "metadata": {},
   "outputs": [],
   "source": [
    "import pandas as pd\n",
    "CostofLiving2022= pd.read_csv(r'C:\\Users\\linds\\OneDrive\\Documents\\UCDPAData\\World_Population_Review_2022.csv')"
   ]
  },
  {
   "cell_type": "code",
   "execution_count": 98,
   "id": "6acdccca",
   "metadata": {},
   "outputs": [
    {
     "data": {
      "text/html": [
       "<div>\n",
       "<style scoped>\n",
       "    .dataframe tbody tr th:only-of-type {\n",
       "        vertical-align: middle;\n",
       "    }\n",
       "\n",
       "    .dataframe tbody tr th {\n",
       "        vertical-align: top;\n",
       "    }\n",
       "\n",
       "    .dataframe thead th {\n",
       "        text-align: right;\n",
       "    }\n",
       "</style>\n",
       "<table border=\"1\" class=\"dataframe\">\n",
       "  <thead>\n",
       "    <tr style=\"text-align: right;\">\n",
       "      <th></th>\n",
       "      <th>ranking</th>\n",
       "      <th>country</th>\n",
       "      <th>costLivingIndex</th>\n",
       "      <th>rentIndex</th>\n",
       "      <th>costLivingPlusRentIndex</th>\n",
       "      <th>groceriesIndex</th>\n",
       "      <th>restaurantPriceIndex</th>\n",
       "      <th>localPurchasingPowerIndex</th>\n",
       "    </tr>\n",
       "  </thead>\n",
       "  <tbody>\n",
       "    <tr>\n",
       "      <th>0</th>\n",
       "      <td>1</td>\n",
       "      <td>Bermuda</td>\n",
       "      <td>147.77</td>\n",
       "      <td>85.70</td>\n",
       "      <td>117.54</td>\n",
       "      <td>146.63</td>\n",
       "      <td>152.52</td>\n",
       "      <td>78.17</td>\n",
       "    </tr>\n",
       "    <tr>\n",
       "      <th>1</th>\n",
       "      <td>2</td>\n",
       "      <td>Switzerland</td>\n",
       "      <td>125.69</td>\n",
       "      <td>51.20</td>\n",
       "      <td>89.41</td>\n",
       "      <td>124.93</td>\n",
       "      <td>118.55</td>\n",
       "      <td>114.83</td>\n",
       "    </tr>\n",
       "    <tr>\n",
       "      <th>2</th>\n",
       "      <td>3</td>\n",
       "      <td>Norway</td>\n",
       "      <td>96.80</td>\n",
       "      <td>32.61</td>\n",
       "      <td>65.54</td>\n",
       "      <td>89.55</td>\n",
       "      <td>96.81</td>\n",
       "      <td>83.40</td>\n",
       "    </tr>\n",
       "    <tr>\n",
       "      <th>3</th>\n",
       "      <td>4</td>\n",
       "      <td>Iceland</td>\n",
       "      <td>90.19</td>\n",
       "      <td>38.54</td>\n",
       "      <td>65.04</td>\n",
       "      <td>80.91</td>\n",
       "      <td>97.17</td>\n",
       "      <td>74.78</td>\n",
       "    </tr>\n",
       "    <tr>\n",
       "      <th>4</th>\n",
       "      <td>5</td>\n",
       "      <td>Japan</td>\n",
       "      <td>86.22</td>\n",
       "      <td>26.18</td>\n",
       "      <td>56.98</td>\n",
       "      <td>86.84</td>\n",
       "      <td>48.07</td>\n",
       "      <td>78.88</td>\n",
       "    </tr>\n",
       "  </tbody>\n",
       "</table>\n",
       "</div>"
      ],
      "text/plain": [
       "   ranking      country  costLivingIndex  rentIndex  costLivingPlusRentIndex  \\\n",
       "0        1      Bermuda           147.77      85.70                   117.54   \n",
       "1        2  Switzerland           125.69      51.20                    89.41   \n",
       "2        3       Norway            96.80      32.61                    65.54   \n",
       "3        4      Iceland            90.19      38.54                    65.04   \n",
       "4        5        Japan            86.22      26.18                    56.98   \n",
       "\n",
       "   groceriesIndex  restaurantPriceIndex  localPurchasingPowerIndex  \n",
       "0          146.63                152.52                      78.17  \n",
       "1          124.93                118.55                     114.83  \n",
       "2           89.55                 96.81                      83.40  \n",
       "3           80.91                 97.17                      74.78  \n",
       "4           86.84                 48.07                      78.88  "
      ]
     },
     "execution_count": 98,
     "metadata": {},
     "output_type": "execute_result"
    }
   ],
   "source": [
    "CostofLiving2022.head()"
   ]
  },
  {
   "cell_type": "code",
   "execution_count": 99,
   "id": "9e33628d",
   "metadata": {},
   "outputs": [
    {
     "data": {
      "text/plain": [
       "(132, 8)"
      ]
     },
     "execution_count": 99,
     "metadata": {},
     "output_type": "execute_result"
    }
   ],
   "source": [
    "CostofLiving2022.shape"
   ]
  },
  {
   "cell_type": "code",
   "execution_count": 100,
   "id": "53ee2ad0",
   "metadata": {},
   "outputs": [
    {
     "name": "stdout",
     "output_type": "stream",
     "text": [
      "     ranking      country  costLivingIndex  rentIndex  \\\n",
      "0          1      Bermuda           147.77      85.70   \n",
      "1          2  Switzerland           125.69      51.20   \n",
      "2          3       Norway            96.80      32.61   \n",
      "3          4      Iceland            90.19      38.54   \n",
      "4          5        Japan            86.22      26.18   \n",
      "..       ...          ...              ...        ...   \n",
      "127      131        Syria            27.04       5.77   \n",
      "128      132  Afghanistan            26.71       3.99   \n",
      "129      133   Kyrgyzstan            24.70       7.78   \n",
      "130      134        India            24.12       5.50   \n",
      "131      135     Pakistan            21.00       4.28   \n",
      "\n",
      "     costLivingPlusRentIndex  groceriesIndex  restaurantPriceIndex  \\\n",
      "0                     117.54          146.63                152.52   \n",
      "1                      89.41          124.93                118.55   \n",
      "2                      65.54           89.55                 96.81   \n",
      "3                      65.04           80.91                 97.17   \n",
      "4                      56.98           86.84                 48.07   \n",
      "..                       ...             ...                   ...   \n",
      "127                    16.68           24.42                 23.21   \n",
      "128                    15.65           18.99                 18.48   \n",
      "129                    16.46           21.76                 20.96   \n",
      "130                    15.05           24.57                 16.38   \n",
      "131                    12.86           18.21                 16.25   \n",
      "\n",
      "     localPurchasingPowerIndex  \n",
      "0                        78.17  \n",
      "1                       114.83  \n",
      "2                        83.40  \n",
      "3                        74.78  \n",
      "4                        78.88  \n",
      "..                         ...  \n",
      "127                       9.48  \n",
      "128                      28.19  \n",
      "129                      23.56  \n",
      "130                      50.55  \n",
      "131                      28.39  \n",
      "\n",
      "[132 rows x 8 columns]\n"
     ]
    }
   ],
   "source": [
    "df = pd.DataFrame(CostofLiving2022)\n",
    "print (df)"
   ]
  },
  {
   "cell_type": "code",
   "execution_count": 101,
   "id": "d0759a0c",
   "metadata": {},
   "outputs": [],
   "source": [
    "CostofLiving2022_IndexChange = CostofLiving2022.set_index(\"country\")"
   ]
  },
  {
   "cell_type": "code",
   "execution_count": 102,
   "id": "52ceffae",
   "metadata": {},
   "outputs": [
    {
     "name": "stdout",
     "output_type": "stream",
     "text": [
      "             ranking  costLivingIndex  rentIndex  costLivingPlusRentIndex  \\\n",
      "country                                                                     \n",
      "Bermuda            1           147.77      85.70                   117.54   \n",
      "Switzerland        2           125.69      51.20                    89.41   \n",
      "Norway             3            96.80      32.61                    65.54   \n",
      "Iceland            4            90.19      38.54                    65.04   \n",
      "Japan              5            86.22      26.18                    56.98   \n",
      "...              ...              ...        ...                      ...   \n",
      "Syria            131            27.04       5.77                    16.68   \n",
      "Afghanistan      132            26.71       3.99                    15.65   \n",
      "Kyrgyzstan       133            24.70       7.78                    16.46   \n",
      "India            134            24.12       5.50                    15.05   \n",
      "Pakistan         135            21.00       4.28                    12.86   \n",
      "\n",
      "             groceriesIndex  restaurantPriceIndex  localPurchasingPowerIndex  \n",
      "country                                                                       \n",
      "Bermuda              146.63                152.52                      78.17  \n",
      "Switzerland          124.93                118.55                     114.83  \n",
      "Norway                89.55                 96.81                      83.40  \n",
      "Iceland               80.91                 97.17                      74.78  \n",
      "Japan                 86.84                 48.07                      78.88  \n",
      "...                     ...                   ...                        ...  \n",
      "Syria                 24.42                 23.21                       9.48  \n",
      "Afghanistan           18.99                 18.48                      28.19  \n",
      "Kyrgyzstan            21.76                 20.96                      23.56  \n",
      "India                 24.57                 16.38                      50.55  \n",
      "Pakistan              18.21                 16.25                      28.39  \n",
      "\n",
      "[132 rows x 7 columns]\n"
     ]
    }
   ],
   "source": [
    "print(CostofLiving2022_IndexChange)"
   ]
  },
  {
   "cell_type": "code",
   "execution_count": 103,
   "id": "3000389c",
   "metadata": {},
   "outputs": [],
   "source": [
    "CostofLiving2022_IndexChange.columns = ['Overall CoLiving Rank', 'CoLiving', 'Rent', 'CoLiving + Rent', 'Groceries', 'Restaurant Price', 'Local Purchasing Power']"
   ]
  },
  {
   "cell_type": "code",
   "execution_count": 104,
   "id": "7b0c75f6",
   "metadata": {},
   "outputs": [
    {
     "name": "stdout",
     "output_type": "stream",
     "text": [
      "             Overall CoLiving Rank  CoLiving   Rent  CoLiving + Rent  \\\n",
      "country                                                                \n",
      "Bermuda                          1    147.77  85.70           117.54   \n",
      "Switzerland                      2    125.69  51.20            89.41   \n",
      "Norway                           3     96.80  32.61            65.54   \n",
      "Iceland                          4     90.19  38.54            65.04   \n",
      "Japan                            5     86.22  26.18            56.98   \n",
      "\n",
      "             Groceries  Restaurant Price  Local Purchasing Power  \n",
      "country                                                           \n",
      "Bermuda         146.63            152.52                   78.17  \n",
      "Switzerland     124.93            118.55                  114.83  \n",
      "Norway           89.55             96.81                   83.40  \n",
      "Iceland          80.91             97.17                   74.78  \n",
      "Japan            86.84             48.07                   78.88  \n"
     ]
    }
   ],
   "source": [
    "print(CostofLiving2022_IndexChange.head())"
   ]
  },
  {
   "cell_type": "code",
   "execution_count": 105,
   "id": "bfc3437c",
   "metadata": {},
   "outputs": [
    {
     "data": {
      "text/plain": [
       "147.77"
      ]
     },
     "execution_count": 105,
     "metadata": {},
     "output_type": "execute_result"
    }
   ],
   "source": [
    "CostofLiving2022_IndexChange[\"CoLiving\"].max()"
   ]
  },
  {
   "cell_type": "code",
   "execution_count": 106,
   "id": "9c5fe1ef",
   "metadata": {},
   "outputs": [
    {
     "data": {
      "text/plain": [
       "21.0"
      ]
     },
     "execution_count": 106,
     "metadata": {},
     "output_type": "execute_result"
    }
   ],
   "source": [
    "CostofLiving2022_IndexChange[\"CoLiving\"].min()"
   ]
  },
  {
   "cell_type": "code",
   "execution_count": 107,
   "id": "89baff02",
   "metadata": {},
   "outputs": [
    {
     "data": {
      "text/plain": [
       "45.004999999999995"
      ]
     },
     "execution_count": 107,
     "metadata": {},
     "output_type": "execute_result"
    }
   ],
   "source": [
    "CostofLiving2022_IndexChange[\"CoLiving\"].median()"
   ]
  },
  {
   "cell_type": "code",
   "execution_count": 108,
   "id": "193d9a3b",
   "metadata": {},
   "outputs": [
    {
     "data": {
      "text/plain": [
       "CoLiving                  147.77\n",
       "Rent                       85.70\n",
       "CoLiving + Rent           117.54\n",
       "Groceries                 146.63\n",
       "Restaurant Price          152.52\n",
       "Local Purchasing Power    114.83\n",
       "dtype: float64"
      ]
     },
     "execution_count": 108,
     "metadata": {},
     "output_type": "execute_result"
    }
   ],
   "source": [
    "def maximum (column):\n",
    "    return column.max()\n",
    "\n",
    "CostofLiving2022_IndexChange[[\"CoLiving\", \"Rent\", \"CoLiving + Rent\", \"Groceries\", \"Restaurant Price\", \"Local Purchasing Power\"]].agg(maximum)"
   ]
  },
  {
   "cell_type": "code",
   "execution_count": 109,
   "id": "1c96f0ae",
   "metadata": {},
   "outputs": [
    {
     "name": "stdout",
     "output_type": "stream",
     "text": [
      "         Overall CoLiving Rank  CoLiving  Rent  CoLiving + Rent  Groceries  \\\n",
      "country                                                                      \n",
      "Bermuda                      1    147.77  85.7           117.54     146.63   \n",
      "\n",
      "         Restaurant Price  Local Purchasing Power  \n",
      "country                                            \n",
      "Bermuda            152.52                   78.17  \n"
     ]
    }
   ],
   "source": [
    "print(CostofLiving2022_IndexChange.loc[[\"Bermuda\"]])"
   ]
  },
  {
   "cell_type": "code",
   "execution_count": 110,
   "id": "0a61643e",
   "metadata": {},
   "outputs": [],
   "source": [
    "# Bermuda is the country with the highest Cost of Living in 2022. It scores highest across all data points except for 'Local Purchasing Power.' This implies that it is expensive to live in Bermuda and individuals have less money to spend or the money they have will enable them to buy less than in other countries. Line 20 shows the maximum values across all columns while line 21 shows the values of Bermuda."
   ]
  },
  {
   "cell_type": "code",
   "execution_count": 111,
   "id": "b9577266",
   "metadata": {},
   "outputs": [
    {
     "data": {
      "text/plain": [
       "2.05"
      ]
     },
     "execution_count": 111,
     "metadata": {},
     "output_type": "execute_result"
    }
   ],
   "source": [
    "CostofLiving2022_IndexChange[\"Local Purchasing Power\"].min()"
   ]
  },
  {
   "cell_type": "code",
   "execution_count": 112,
   "id": "3a1bd496",
   "metadata": {},
   "outputs": [
    {
     "data": {
      "text/plain": [
       "114.83"
      ]
     },
     "execution_count": 112,
     "metadata": {},
     "output_type": "execute_result"
    }
   ],
   "source": [
    "CostofLiving2022_IndexChange[\"Local Purchasing Power\"].max()"
   ]
  },
  {
   "cell_type": "code",
   "execution_count": 113,
   "id": "fec5e65c",
   "metadata": {},
   "outputs": [
    {
     "data": {
      "text/html": [
       "<div>\n",
       "<style scoped>\n",
       "    .dataframe tbody tr th:only-of-type {\n",
       "        vertical-align: middle;\n",
       "    }\n",
       "\n",
       "    .dataframe tbody tr th {\n",
       "        vertical-align: top;\n",
       "    }\n",
       "\n",
       "    .dataframe thead th {\n",
       "        text-align: right;\n",
       "    }\n",
       "</style>\n",
       "<table border=\"1\" class=\"dataframe\">\n",
       "  <thead>\n",
       "    <tr style=\"text-align: right;\">\n",
       "      <th></th>\n",
       "      <th>Overall CoLiving Rank</th>\n",
       "      <th>CoLiving</th>\n",
       "      <th>Rent</th>\n",
       "      <th>CoLiving + Rent</th>\n",
       "      <th>Groceries</th>\n",
       "      <th>Restaurant Price</th>\n",
       "      <th>Local Purchasing Power</th>\n",
       "    </tr>\n",
       "    <tr>\n",
       "      <th>country</th>\n",
       "      <th></th>\n",
       "      <th></th>\n",
       "      <th></th>\n",
       "      <th></th>\n",
       "      <th></th>\n",
       "      <th></th>\n",
       "      <th></th>\n",
       "    </tr>\n",
       "  </thead>\n",
       "  <tbody>\n",
       "    <tr>\n",
       "      <th>Switzerland</th>\n",
       "      <td>2</td>\n",
       "      <td>125.69</td>\n",
       "      <td>51.2</td>\n",
       "      <td>89.41</td>\n",
       "      <td>124.93</td>\n",
       "      <td>118.55</td>\n",
       "      <td>114.83</td>\n",
       "    </tr>\n",
       "  </tbody>\n",
       "</table>\n",
       "</div>"
      ],
      "text/plain": [
       "             Overall CoLiving Rank  CoLiving  Rent  CoLiving + Rent  \\\n",
       "country                                                               \n",
       "Switzerland                      2    125.69  51.2            89.41   \n",
       "\n",
       "             Groceries  Restaurant Price  Local Purchasing Power  \n",
       "country                                                           \n",
       "Switzerland     124.93            118.55                  114.83  "
      ]
     },
     "execution_count": 113,
     "metadata": {},
     "output_type": "execute_result"
    }
   ],
   "source": [
    "CostofLiving2022_IndexChange[(CostofLiving2022_IndexChange[\"Local Purchasing Power\"]==114.83)]"
   ]
  },
  {
   "cell_type": "code",
   "execution_count": 114,
   "id": "3c1a9ec0",
   "metadata": {},
   "outputs": [
    {
     "data": {
      "text/html": [
       "<div>\n",
       "<style scoped>\n",
       "    .dataframe tbody tr th:only-of-type {\n",
       "        vertical-align: middle;\n",
       "    }\n",
       "\n",
       "    .dataframe tbody tr th {\n",
       "        vertical-align: top;\n",
       "    }\n",
       "\n",
       "    .dataframe thead th {\n",
       "        text-align: right;\n",
       "    }\n",
       "</style>\n",
       "<table border=\"1\" class=\"dataframe\">\n",
       "  <thead>\n",
       "    <tr style=\"text-align: right;\">\n",
       "      <th></th>\n",
       "      <th>Overall CoLiving Rank</th>\n",
       "      <th>CoLiving</th>\n",
       "      <th>Rent</th>\n",
       "      <th>CoLiving + Rent</th>\n",
       "      <th>Groceries</th>\n",
       "      <th>Restaurant Price</th>\n",
       "      <th>Local Purchasing Power</th>\n",
       "    </tr>\n",
       "    <tr>\n",
       "      <th>country</th>\n",
       "      <th></th>\n",
       "      <th></th>\n",
       "      <th></th>\n",
       "      <th></th>\n",
       "      <th></th>\n",
       "      <th></th>\n",
       "      <th></th>\n",
       "    </tr>\n",
       "  </thead>\n",
       "  <tbody>\n",
       "    <tr>\n",
       "      <th>Cuba</th>\n",
       "      <td>71</td>\n",
       "      <td>43.85</td>\n",
       "      <td>4.3</td>\n",
       "      <td>23.59</td>\n",
       "      <td>38.63</td>\n",
       "      <td>32.13</td>\n",
       "      <td>2.05</td>\n",
       "    </tr>\n",
       "  </tbody>\n",
       "</table>\n",
       "</div>"
      ],
      "text/plain": [
       "         Overall CoLiving Rank  CoLiving  Rent  CoLiving + Rent  Groceries  \\\n",
       "country                                                                      \n",
       "Cuba                        71     43.85   4.3            23.59      38.63   \n",
       "\n",
       "         Restaurant Price  Local Purchasing Power  \n",
       "country                                            \n",
       "Cuba                32.13                    2.05  "
      ]
     },
     "execution_count": 114,
     "metadata": {},
     "output_type": "execute_result"
    }
   ],
   "source": [
    "CostofLiving2022_IndexChange[(CostofLiving2022_IndexChange[\"Local Purchasing Power\"]==2.05)]"
   ]
  },
  {
   "cell_type": "code",
   "execution_count": 115,
   "id": "c07fd274",
   "metadata": {},
   "outputs": [],
   "source": [
    "# Switzerland is the country with the most 'Local Purchasing Power' in 2022 at 114.83 while Cuba is the country with the least purchasing power in 2022 at 2.05."
   ]
  },
  {
   "cell_type": "code",
   "execution_count": 116,
   "id": "e5cde8d3",
   "metadata": {},
   "outputs": [
    {
     "data": {
      "text/html": [
       "<div>\n",
       "<style scoped>\n",
       "    .dataframe tbody tr th:only-of-type {\n",
       "        vertical-align: middle;\n",
       "    }\n",
       "\n",
       "    .dataframe tbody tr th {\n",
       "        vertical-align: top;\n",
       "    }\n",
       "\n",
       "    .dataframe thead th {\n",
       "        text-align: right;\n",
       "    }\n",
       "</style>\n",
       "<table border=\"1\" class=\"dataframe\">\n",
       "  <thead>\n",
       "    <tr style=\"text-align: right;\">\n",
       "      <th></th>\n",
       "      <th>Overall CoLiving Rank</th>\n",
       "      <th>CoLiving</th>\n",
       "      <th>Rent</th>\n",
       "      <th>CoLiving + Rent</th>\n",
       "      <th>Groceries</th>\n",
       "      <th>Restaurant Price</th>\n",
       "      <th>Local Purchasing Power</th>\n",
       "    </tr>\n",
       "    <tr>\n",
       "      <th>country</th>\n",
       "      <th></th>\n",
       "      <th></th>\n",
       "      <th></th>\n",
       "      <th></th>\n",
       "      <th></th>\n",
       "      <th></th>\n",
       "      <th></th>\n",
       "    </tr>\n",
       "  </thead>\n",
       "  <tbody>\n",
       "    <tr>\n",
       "      <th>Switzerland</th>\n",
       "      <td>2</td>\n",
       "      <td>125.69</td>\n",
       "      <td>51.20</td>\n",
       "      <td>89.41</td>\n",
       "      <td>124.93</td>\n",
       "      <td>118.55</td>\n",
       "      <td>114.83</td>\n",
       "    </tr>\n",
       "    <tr>\n",
       "      <th>United States</th>\n",
       "      <td>21</td>\n",
       "      <td>72.47</td>\n",
       "      <td>40.07</td>\n",
       "      <td>56.69</td>\n",
       "      <td>69.68</td>\n",
       "      <td>68.29</td>\n",
       "      <td>108.29</td>\n",
       "    </tr>\n",
       "    <tr>\n",
       "      <th>Australia</th>\n",
       "      <td>16</td>\n",
       "      <td>75.89</td>\n",
       "      <td>34.18</td>\n",
       "      <td>55.58</td>\n",
       "      <td>70.62</td>\n",
       "      <td>68.88</td>\n",
       "      <td>103.38</td>\n",
       "    </tr>\n",
       "    <tr>\n",
       "      <th>Denmark</th>\n",
       "      <td>6</td>\n",
       "      <td>85.02</td>\n",
       "      <td>33.10</td>\n",
       "      <td>59.74</td>\n",
       "      <td>65.86</td>\n",
       "      <td>95.71</td>\n",
       "      <td>101.27</td>\n",
       "    </tr>\n",
       "    <tr>\n",
       "      <th>Luxembourg</th>\n",
       "      <td>7</td>\n",
       "      <td>84.38</td>\n",
       "      <td>55.11</td>\n",
       "      <td>70.13</td>\n",
       "      <td>74.03</td>\n",
       "      <td>86.29</td>\n",
       "      <td>99.86</td>\n",
       "    </tr>\n",
       "    <tr>\n",
       "      <th>...</th>\n",
       "      <td>...</td>\n",
       "      <td>...</td>\n",
       "      <td>...</td>\n",
       "      <td>...</td>\n",
       "      <td>...</td>\n",
       "      <td>...</td>\n",
       "      <td>...</td>\n",
       "    </tr>\n",
       "    <tr>\n",
       "      <th>Nigeria</th>\n",
       "      <td>122</td>\n",
       "      <td>29.76</td>\n",
       "      <td>27.24</td>\n",
       "      <td>28.53</td>\n",
       "      <td>30.39</td>\n",
       "      <td>17.66</td>\n",
       "      <td>11.10</td>\n",
       "    </tr>\n",
       "    <tr>\n",
       "      <th>Myanmar</th>\n",
       "      <td>88</td>\n",
       "      <td>38.47</td>\n",
       "      <td>26.72</td>\n",
       "      <td>32.75</td>\n",
       "      <td>39.35</td>\n",
       "      <td>20.68</td>\n",
       "      <td>10.33</td>\n",
       "    </tr>\n",
       "    <tr>\n",
       "      <th>Syria</th>\n",
       "      <td>131</td>\n",
       "      <td>27.04</td>\n",
       "      <td>5.77</td>\n",
       "      <td>16.68</td>\n",
       "      <td>24.42</td>\n",
       "      <td>23.21</td>\n",
       "      <td>9.48</td>\n",
       "    </tr>\n",
       "    <tr>\n",
       "      <th>Ethiopia</th>\n",
       "      <td>46</td>\n",
       "      <td>54.86</td>\n",
       "      <td>15.43</td>\n",
       "      <td>35.66</td>\n",
       "      <td>38.08</td>\n",
       "      <td>20.18</td>\n",
       "      <td>9.13</td>\n",
       "    </tr>\n",
       "    <tr>\n",
       "      <th>Cuba</th>\n",
       "      <td>71</td>\n",
       "      <td>43.85</td>\n",
       "      <td>4.30</td>\n",
       "      <td>23.59</td>\n",
       "      <td>38.63</td>\n",
       "      <td>32.13</td>\n",
       "      <td>2.05</td>\n",
       "    </tr>\n",
       "  </tbody>\n",
       "</table>\n",
       "<p>132 rows × 7 columns</p>\n",
       "</div>"
      ],
      "text/plain": [
       "               Overall CoLiving Rank  CoLiving   Rent  CoLiving + Rent  \\\n",
       "country                                                                  \n",
       "Switzerland                        2    125.69  51.20            89.41   \n",
       "United States                     21     72.47  40.07            56.69   \n",
       "Australia                         16     75.89  34.18            55.58   \n",
       "Denmark                            6     85.02  33.10            59.74   \n",
       "Luxembourg                         7     84.38  55.11            70.13   \n",
       "...                              ...       ...    ...              ...   \n",
       "Nigeria                          122     29.76  27.24            28.53   \n",
       "Myanmar                           88     38.47  26.72            32.75   \n",
       "Syria                            131     27.04   5.77            16.68   \n",
       "Ethiopia                          46     54.86  15.43            35.66   \n",
       "Cuba                              71     43.85   4.30            23.59   \n",
       "\n",
       "               Groceries  Restaurant Price  Local Purchasing Power  \n",
       "country                                                             \n",
       "Switzerland       124.93            118.55                  114.83  \n",
       "United States      69.68             68.29                  108.29  \n",
       "Australia          70.62             68.88                  103.38  \n",
       "Denmark            65.86             95.71                  101.27  \n",
       "Luxembourg         74.03             86.29                   99.86  \n",
       "...                  ...               ...                     ...  \n",
       "Nigeria            30.39             17.66                   11.10  \n",
       "Myanmar            39.35             20.68                   10.33  \n",
       "Syria              24.42             23.21                    9.48  \n",
       "Ethiopia           38.08             20.18                    9.13  \n",
       "Cuba               38.63             32.13                    2.05  \n",
       "\n",
       "[132 rows x 7 columns]"
      ]
     },
     "execution_count": 116,
     "metadata": {},
     "output_type": "execute_result"
    }
   ],
   "source": [
    "CostofLiving2022_IndexChange.sort_values(\"Local Purchasing Power\", ascending=False)"
   ]
  },
  {
   "cell_type": "code",
   "execution_count": 117,
   "id": "a1319d59",
   "metadata": {},
   "outputs": [],
   "source": [
    "# The countries that are in Europe, America and Australia have the mose Local Purchasing Power while African countries have lower Local Purchasing Power"
   ]
  },
  {
   "cell_type": "code",
   "execution_count": 118,
   "id": "c5c64c3a",
   "metadata": {},
   "outputs": [
    {
     "data": {
      "text/html": [
       "<div>\n",
       "<style scoped>\n",
       "    .dataframe tbody tr th:only-of-type {\n",
       "        vertical-align: middle;\n",
       "    }\n",
       "\n",
       "    .dataframe tbody tr th {\n",
       "        vertical-align: top;\n",
       "    }\n",
       "\n",
       "    .dataframe thead th {\n",
       "        text-align: right;\n",
       "    }\n",
       "</style>\n",
       "<table border=\"1\" class=\"dataframe\">\n",
       "  <thead>\n",
       "    <tr style=\"text-align: right;\">\n",
       "      <th></th>\n",
       "      <th>Overall CoLiving Rank</th>\n",
       "      <th>CoLiving</th>\n",
       "      <th>Rent</th>\n",
       "      <th>CoLiving + Rent</th>\n",
       "      <th>Groceries</th>\n",
       "      <th>Restaurant Price</th>\n",
       "      <th>Local Purchasing Power</th>\n",
       "    </tr>\n",
       "    <tr>\n",
       "      <th>country</th>\n",
       "      <th></th>\n",
       "      <th></th>\n",
       "      <th></th>\n",
       "      <th></th>\n",
       "      <th></th>\n",
       "      <th></th>\n",
       "      <th></th>\n",
       "    </tr>\n",
       "  </thead>\n",
       "  <tbody>\n",
       "    <tr>\n",
       "      <th>Bermuda</th>\n",
       "      <td>1</td>\n",
       "      <td>147.77</td>\n",
       "      <td>85.70</td>\n",
       "      <td>117.54</td>\n",
       "      <td>146.63</td>\n",
       "      <td>152.52</td>\n",
       "      <td>78.17</td>\n",
       "    </tr>\n",
       "    <tr>\n",
       "      <th>Switzerland</th>\n",
       "      <td>2</td>\n",
       "      <td>125.69</td>\n",
       "      <td>51.20</td>\n",
       "      <td>89.41</td>\n",
       "      <td>124.93</td>\n",
       "      <td>118.55</td>\n",
       "      <td>114.83</td>\n",
       "    </tr>\n",
       "    <tr>\n",
       "      <th>Norway</th>\n",
       "      <td>3</td>\n",
       "      <td>96.80</td>\n",
       "      <td>32.61</td>\n",
       "      <td>65.54</td>\n",
       "      <td>89.55</td>\n",
       "      <td>96.81</td>\n",
       "      <td>83.40</td>\n",
       "    </tr>\n",
       "    <tr>\n",
       "      <th>Iceland</th>\n",
       "      <td>4</td>\n",
       "      <td>90.19</td>\n",
       "      <td>38.54</td>\n",
       "      <td>65.04</td>\n",
       "      <td>80.91</td>\n",
       "      <td>97.17</td>\n",
       "      <td>74.78</td>\n",
       "    </tr>\n",
       "    <tr>\n",
       "      <th>Japan</th>\n",
       "      <td>5</td>\n",
       "      <td>86.22</td>\n",
       "      <td>26.18</td>\n",
       "      <td>56.98</td>\n",
       "      <td>86.84</td>\n",
       "      <td>48.07</td>\n",
       "      <td>78.88</td>\n",
       "    </tr>\n",
       "    <tr>\n",
       "      <th>...</th>\n",
       "      <td>...</td>\n",
       "      <td>...</td>\n",
       "      <td>...</td>\n",
       "      <td>...</td>\n",
       "      <td>...</td>\n",
       "      <td>...</td>\n",
       "      <td>...</td>\n",
       "    </tr>\n",
       "    <tr>\n",
       "      <th>Syria</th>\n",
       "      <td>131</td>\n",
       "      <td>27.04</td>\n",
       "      <td>5.77</td>\n",
       "      <td>16.68</td>\n",
       "      <td>24.42</td>\n",
       "      <td>23.21</td>\n",
       "      <td>9.48</td>\n",
       "    </tr>\n",
       "    <tr>\n",
       "      <th>Afghanistan</th>\n",
       "      <td>132</td>\n",
       "      <td>26.71</td>\n",
       "      <td>3.99</td>\n",
       "      <td>15.65</td>\n",
       "      <td>18.99</td>\n",
       "      <td>18.48</td>\n",
       "      <td>28.19</td>\n",
       "    </tr>\n",
       "    <tr>\n",
       "      <th>Kyrgyzstan</th>\n",
       "      <td>133</td>\n",
       "      <td>24.70</td>\n",
       "      <td>7.78</td>\n",
       "      <td>16.46</td>\n",
       "      <td>21.76</td>\n",
       "      <td>20.96</td>\n",
       "      <td>23.56</td>\n",
       "    </tr>\n",
       "    <tr>\n",
       "      <th>India</th>\n",
       "      <td>134</td>\n",
       "      <td>24.12</td>\n",
       "      <td>5.50</td>\n",
       "      <td>15.05</td>\n",
       "      <td>24.57</td>\n",
       "      <td>16.38</td>\n",
       "      <td>50.55</td>\n",
       "    </tr>\n",
       "    <tr>\n",
       "      <th>Pakistan</th>\n",
       "      <td>135</td>\n",
       "      <td>21.00</td>\n",
       "      <td>4.28</td>\n",
       "      <td>12.86</td>\n",
       "      <td>18.21</td>\n",
       "      <td>16.25</td>\n",
       "      <td>28.39</td>\n",
       "    </tr>\n",
       "  </tbody>\n",
       "</table>\n",
       "<p>132 rows × 7 columns</p>\n",
       "</div>"
      ],
      "text/plain": [
       "             Overall CoLiving Rank  CoLiving   Rent  CoLiving + Rent  \\\n",
       "country                                                                \n",
       "Bermuda                          1    147.77  85.70           117.54   \n",
       "Switzerland                      2    125.69  51.20            89.41   \n",
       "Norway                           3     96.80  32.61            65.54   \n",
       "Iceland                          4     90.19  38.54            65.04   \n",
       "Japan                            5     86.22  26.18            56.98   \n",
       "...                            ...       ...    ...              ...   \n",
       "Syria                          131     27.04   5.77            16.68   \n",
       "Afghanistan                    132     26.71   3.99            15.65   \n",
       "Kyrgyzstan                     133     24.70   7.78            16.46   \n",
       "India                          134     24.12   5.50            15.05   \n",
       "Pakistan                       135     21.00   4.28            12.86   \n",
       "\n",
       "             Groceries  Restaurant Price  Local Purchasing Power  \n",
       "country                                                           \n",
       "Bermuda         146.63            152.52                   78.17  \n",
       "Switzerland     124.93            118.55                  114.83  \n",
       "Norway           89.55             96.81                   83.40  \n",
       "Iceland          80.91             97.17                   74.78  \n",
       "Japan            86.84             48.07                   78.88  \n",
       "...                ...               ...                     ...  \n",
       "Syria            24.42             23.21                    9.48  \n",
       "Afghanistan      18.99             18.48                   28.19  \n",
       "Kyrgyzstan       21.76             20.96                   23.56  \n",
       "India            24.57             16.38                   50.55  \n",
       "Pakistan         18.21             16.25                   28.39  \n",
       "\n",
       "[132 rows x 7 columns]"
      ]
     },
     "execution_count": 118,
     "metadata": {},
     "output_type": "execute_result"
    }
   ],
   "source": [
    "CostofLiving2022_IndexChange.sort_values(\"CoLiving\", ascending=False)"
   ]
  },
  {
   "cell_type": "code",
   "execution_count": 119,
   "id": "2d18ad21",
   "metadata": {},
   "outputs": [],
   "source": [
    "# In 2022 countries from Europe, America and Asia have the highest cost of living while countries in the Middle East and India appear to have the lowest cost of living"
   ]
  },
  {
   "cell_type": "code",
   "execution_count": 120,
   "id": "2b8468d9",
   "metadata": {},
   "outputs": [],
   "source": [
    "# The cost of living, rent, groceries and restaurant prices appear to stay broadly in alignment while local purchasing power differs"
   ]
  },
  {
   "cell_type": "code",
   "execution_count": 121,
   "id": "125dfcb7",
   "metadata": {},
   "outputs": [
    {
     "name": "stdout",
     "output_type": "stream",
     "text": [
      "           Country Average Income (PPP €)                 \n",
      "           Country             Bottom 50% Top 10%   Top 1%\n",
      "0    United States                  14500  246800  1018700\n",
      "1           Israel                  11200  211900   713500\n",
      "2            Chile                   4500  130200   585100\n",
      "3           Canada                  11900  156000   566900\n",
      "4           Turkey                   6500  149400   516700\n",
      "5        Australia                  12900  134200   513300\n",
      "6          Germany                  15200  148000   509800\n",
      "7      South Korea                  10600  153200   485200\n",
      "8           Russia                   7700  104600   483200\n",
      "9           Sweden                  21500  139200   476900\n",
      "10          Mexico                   3200   99400   452900\n",
      "11  United Kingdom                  13300  116700   413900\n",
      "12           Japan                  10200  137000   400000\n",
      "13          Poland                  10400  100400   395800\n",
      "14           Spain                  12900  105500   378800\n",
      "15          Brazil                   2800   81900   372000\n",
      "16          France                  16500  116900   357000\n",
      "17       Argentina                   5600   73500   300800\n",
      "18    South Africa                   1300   82500   272000\n",
      "19           Italy                  12100   93900   253700\n",
      "20           China                   5100   73400   246600\n",
      "21       Indonesia                   2900   56100   213400\n",
      "22           India                   2000   42500   161600\n",
      "23         Morocco                   2100   38700   118500\n",
      "24         Algeria                   4424   44287   115253\n",
      "25         Nigeria                   2400   32700    88600\n"
     ]
    }
   ],
   "source": [
    "# Web scrape of a table on Income Inequality\n",
    "from bs4 import BeautifulSoup\n",
    "import pandas as pd\n",
    "import requests\n",
    "import json\n",
    "\n",
    "url = requests.get('https://worldpopulationreview.com/country-rankings/income-inequality-by-country')\n",
    "content = BeautifulSoup(url.content, 'lxml')\n",
    "table = content.find(\"table\")\n",
    "table_read = pd.read_html(str(table))[0]\n",
    "Table1 = pd.DataFrame(table_read)\n",
    "isinstance(Table1, pd.DataFrame)\n",
    "\n",
    "print(Table1)"
   ]
  },
  {
   "cell_type": "code",
   "execution_count": 87,
   "id": "bb6c8a87",
   "metadata": {},
   "outputs": [
    {
     "name": "stdout",
     "output_type": "stream",
     "text": [
      "              Country Gini Coefficient WB\n",
      "0               China         38.2 (2019)\n",
      "1               India         35.7 (2011)\n",
      "2       United States         41.5 (2019)\n",
      "3           Indonesia         37.3 (2021)\n",
      "4            Pakistan         29.6 (2018)\n",
      "..                ...                 ...\n",
      "172         Greenland                 NaN\n",
      "173     Faroe Islands                 NaN\n",
      "174            Tuvalu         39.1 (2010)\n",
      "175             Nauru         34.8 (2012)\n",
      "176  Falkland Islands                 NaN\n",
      "\n",
      "[177 rows x 2 columns]\n"
     ]
    }
   ],
   "source": [
    "# Web scrape of table 2. The lower the Gini cooefficient the lower income inequality of the country. Gini Coefficient WB is the World Bank data.\n",
    "url = requests.get('https://worldpopulationreview.com/country-rankings/income-inequality-by-country')\n",
    "content = BeautifulSoup(url.content, 'lxml')\n",
    "table = content.find(\"table\",{\"class\":\"jsx-2006211681 table is-striped is-hoverable is-fullwidth tp-table-body is-narrow\"})\n",
    "Table2 = pd.read_html(str(table))[0]\n",
    "Table2 = pd.DataFrame(Table2)\n",
    "\n",
    "Table2.columns= ['Country','Gini Coefficient WB', 'Gini Coefficient 2']\n",
    "del Table2 ['Gini Coefficient 2']\n",
    "print (Table2)"
   ]
  },
  {
   "cell_type": "code",
   "execution_count": 88,
   "id": "75bfa547",
   "metadata": {},
   "outputs": [
    {
     "name": "stdout",
     "output_type": "stream",
     "text": [
      "              Country Gini Coefficient WB Gini Coefficient Year Recorded\n",
      "0               China         38.2 (2019)             38.2        (2019)\n",
      "1               India         35.7 (2011)             35.7        (2011)\n",
      "2       United States         41.5 (2019)             41.5        (2019)\n",
      "3           Indonesia         37.3 (2021)             37.3        (2021)\n",
      "4            Pakistan         29.6 (2018)             29.6        (2018)\n",
      "..                ...                 ...              ...           ...\n",
      "172         Greenland                 NaN              NaN           NaN\n",
      "173     Faroe Islands                 NaN              NaN           NaN\n",
      "174            Tuvalu         39.1 (2010)             39.1        (2010)\n",
      "175             Nauru         34.8 (2012)             34.8        (2012)\n",
      "176  Falkland Islands                 NaN              NaN           NaN\n",
      "\n",
      "[177 rows x 4 columns]\n"
     ]
    }
   ],
   "source": [
    "Table2['Gini Coefficient WB'].str.split(pat = ' ', expand = True)\n",
    "Table2[['Gini Coefficient', 'Year Recorded']] = Table2['Gini Coefficient WB'].str.split(pat = ' ', expand = True)\n",
    "print(Table2)"
   ]
  },
  {
   "cell_type": "code",
   "execution_count": 89,
   "id": "6f03504c",
   "metadata": {},
   "outputs": [
    {
     "name": "stdout",
     "output_type": "stream",
     "text": [
      "              Country Gini Coefficient Year Recorded\n",
      "0               China             38.2          2019\n",
      "1               India             35.7          2011\n",
      "2       United States             41.5          2019\n",
      "3           Indonesia             37.3          2021\n",
      "4            Pakistan             29.6          2018\n",
      "..                ...              ...           ...\n",
      "172         Greenland              NaN           NaN\n",
      "173     Faroe Islands              NaN           NaN\n",
      "174            Tuvalu             39.1          2010\n",
      "175             Nauru             34.8          2012\n",
      "176  Falkland Islands              NaN           NaN\n",
      "\n",
      "[177 rows x 3 columns]\n"
     ]
    },
    {
     "name": "stderr",
     "output_type": "stream",
     "text": [
      "<ipython-input-89-ae4699f8b6de>:1: FutureWarning: The default value of regex will change from True to False in a future version.\n",
      "  Table2['Year Recorded'] = Table2['Year Recorded'].str.replace(r\"\\(\",\"\")\n",
      "<ipython-input-89-ae4699f8b6de>:2: FutureWarning: The default value of regex will change from True to False in a future version.\n",
      "  Table2['Year Recorded'] = Table2['Year Recorded'].str.replace(r\"\\)\",\"\")\n"
     ]
    }
   ],
   "source": [
    "Table2['Year Recorded'] = Table2['Year Recorded'].str.replace(r\"\\(\",\"\")\n",
    "Table2['Year Recorded'] = Table2['Year Recorded'].str.replace(r\"\\)\",\"\")\n",
    "del Table2['Gini Coefficient WB']\n",
    "print(Table2)"
   ]
  },
  {
   "cell_type": "code",
   "execution_count": 90,
   "id": "f33ebd92",
   "metadata": {},
   "outputs": [
    {
     "name": "stdout",
     "output_type": "stream",
     "text": [
      "     Country  Gini Coefficient  Year Recorded\n",
      "0      False             False          False\n",
      "1      False             False          False\n",
      "2      False             False          False\n",
      "3      False             False          False\n",
      "4      False             False          False\n",
      "..       ...               ...            ...\n",
      "172    False              True           True\n",
      "173    False              True           True\n",
      "174    False             False          False\n",
      "175    False             False          False\n",
      "176    False              True           True\n",
      "\n",
      "[177 rows x 3 columns]\n",
      "Country              0\n",
      "Gini Coefficient    12\n",
      "Year Recorded       12\n",
      "dtype: int64\n",
      "           Country Gini Coefficient Year Recorded\n",
      "0            China             38.2          2019\n",
      "1            India             35.7          2011\n",
      "2    United States             41.5          2019\n",
      "3        Indonesia             37.3          2021\n",
      "4         Pakistan             29.6          2018\n",
      "..             ...              ...           ...\n",
      "169     Micronesia             40.1          2013\n",
      "170          Tonga             37.6          2015\n",
      "171     Seychelles             32.1          2018\n",
      "174         Tuvalu             39.1          2010\n",
      "175          Nauru             34.8          2012\n",
      "\n",
      "[165 rows x 3 columns]\n"
     ]
    }
   ],
   "source": [
    "Na_check= print(Table2.isna())\n",
    "print(Table2.isna().sum())\n",
    "Removed_NAs= print(Table2.dropna())"
   ]
  },
  {
   "cell_type": "code",
   "execution_count": 73,
   "id": "d7ba061d",
   "metadata": {},
   "outputs": [
    {
     "name": "stdout",
     "output_type": "stream",
     "text": [
      "True\n"
     ]
    }
   ],
   "source": [
    "print(isinstance(Table2, pd.DataFrame))"
   ]
  },
  {
   "cell_type": "code",
   "execution_count": 93,
   "id": "8f267e4c",
   "metadata": {},
   "outputs": [
    {
     "name": "stdout",
     "output_type": "stream",
     "text": [
      "True\n",
      "     Country    Time  Value\n",
      "0    Denmark  Jan-22   4.34\n",
      "1    Denmark  Feb-22   4.80\n",
      "2    Denmark  Mar-22   5.37\n",
      "3    Denmark  Apr-22   6.69\n",
      "4    Denmark  May-22   7.44\n",
      "..       ...     ...    ...\n",
      "257    Japan  Jan-22   0.50\n",
      "258    Japan  Feb-22   0.90\n",
      "259    Japan  Mar-22   1.20\n",
      "260    Japan  Apr-22   2.50\n",
      "261    Japan  May-22   2.50\n",
      "\n",
      "[262 rows x 3 columns]\n"
     ]
    }
   ],
   "source": [
    "#Importing Consumer Price Index (CPI) 2022 as csv to dataframe\n",
    "import pandas as pd\n",
    "filename= (r'C:\\Users\\linds\\OneDrive\\Documents\\BA Project/CPI_Prices.csv')\n",
    "CPI_data_2022= pd.read_csv(filename)\n",
    "\n",
    "print(isinstance(CPI_data_2022, pd.DataFrame))\n",
    "\n",
    "del CPI_data_2022['Measure']\n",
    "del CPI_data_2022['TIME']\n",
    "CPI_data_2022['Value']= CPI_data_2022['Value'].round(decimals=2)\n",
    "\n",
    "print(CPI_data_2022)"
   ]
  },
  {
   "cell_type": "code",
   "execution_count": 94,
   "id": "bbb5ff42",
   "metadata": {},
   "outputs": [
    {
     "name": "stdout",
     "output_type": "stream",
     "text": [
      "                             CPI Month Recorded  CPI %\n",
      "Country                                               \n",
      "Denmark                                  May-22   7.44\n",
      "Greece                                   May-22  11.33\n",
      "Hungary                                  May-22  10.70\n",
      "Mexico                                   May-22   7.65\n",
      "Netherlands                              May-22   8.76\n",
      "Norway                                   May-22   5.74\n",
      "Portugal                                 May-22   8.00\n",
      "Sweden                                   May-22   7.27\n",
      "Brazil                                   May-22  11.73\n",
      "Chile                                    May-22  11.55\n",
      "Colombia                                 May-22   9.07\n",
      "Estonia                                  May-22  19.98\n",
      "Latvia                                   May-22  16.86\n",
      "Lithuania                                May-22  18.90\n",
      "Argentina                                May-22  60.68\n",
      "South Africa                             May-22   6.61\n",
      "Luxembourg                               May-22   6.79\n",
      "Finland                                  May-22   6.96\n",
      "Canada                                   May-22   7.73\n",
      "United States                            May-22   8.58\n",
      "Indonesia                                May-22   3.55\n",
      "Germany                                  May-22   7.91\n",
      "Türkiye                                  May-22  73.50\n",
      "China (People's Republic of)             May-22   2.10\n",
      "United Kingdom                           May-22   7.90\n",
      "Iceland                                  May-22   7.59\n",
      "Austria                                  May-22   7.74\n",
      "Poland                                   May-22  13.90\n",
      "Spain                                    May-22   8.73\n",
      "Ireland                                  May-22   7.83\n",
      "Belgium                                  May-22   8.97\n",
      "Slovak Republic                          May-22  12.56\n",
      "Slovenia                                 May-22   8.11\n",
      "Italy                                    May-22   6.82\n",
      "Czech Republic                           May-22  15.97\n",
      "Switzerland                              May-22   2.94\n",
      "Israel                                   May-22   4.15\n",
      "France                                   May-22   5.20\n",
      "Saudi Arabia                             May-22   2.24\n",
      "Korea                                    May-22   5.40\n",
      "India                                    May-22   6.97\n",
      "Costa Rica                               May-22   8.71\n",
      "Japan                                    May-22   2.50\n"
     ]
    }
   ],
   "source": [
    "CPI_data_May_2022 = CPI_data_2022[CPI_data_2022[\"Time\"]==\"May-22\"]\n",
    "CPI_data_May_2022 = CPI_data_May_2022.set_index(\"Country\")\n",
    "\n",
    "Remove_Country= ['OECD - Europe', 'G7', 'Euro area (19 countries)', 'OECD - Total', 'G20', 'European Union – 27 countries (from 01/02/2020)']\n",
    "CPI_data_May_2022 = CPI_data_May_2022.drop(Remove_Country)\n",
    "\n",
    "CPI_data_May_2022 = CPI_data_May_2022.rename(columns={'Time': 'CPI Month Recorded', 'Value': 'CPI %'})\n",
    "print (CPI_data_May_2022)"
   ]
  },
  {
   "cell_type": "code",
   "execution_count": 306,
   "id": "22b3e551",
   "metadata": {},
   "outputs": [
    {
     "name": "stdout",
     "output_type": "stream",
     "text": [
      "             Overall CoLiving Rank  CoLiving   Rent  CoLiving + Rent  \\\n",
      "Country                                                                \n",
      "Bermuda                          1    147.77  85.70           117.54   \n",
      "Switzerland                      2    125.69  51.20            89.41   \n",
      "...                            ...       ...    ...              ...   \n",
      "India                          134     24.12   5.50            15.05   \n",
      "Pakistan                       135     21.00   4.28            12.86   \n",
      "\n",
      "             Groceries  Restaurant Price  Local Purchasing Power  \n",
      "Country                                                           \n",
      "Bermuda         146.63            152.52                   78.17  \n",
      "Switzerland     124.93            118.55                  114.83  \n",
      "...                ...               ...                     ...  \n",
      "India            24.57             16.38                   50.55  \n",
      "Pakistan         18.21             16.25                   28.39  \n",
      "\n",
      "[132 rows x 7 columns]\n"
     ]
    }
   ],
   "source": [
    "# Joining Cost of Living 2022 Dataset with OECD Consumer Price Index Dataset\n",
    "CostofLiving2022_IndexChange2 = CostofLiving2022_IndexChange.reset_index()\n",
    "CostofLiving2022_IndexChange2 = CostofLiving2022_IndexChange2\n",
    "CostofLiving2022_IndexChange2 = CostofLiving2022_IndexChange2.rename(columns = {'country':'Country'})\n",
    "CostofLiving2022_IndexChange2 = CostofLiving2022_IndexChange2.set_index('Country')\n",
    "\n",
    "pd.set_option('display.max_rows', 5)\n",
    "print(CostofLiving2022_IndexChange2)"
   ]
  },
  {
   "cell_type": "code",
   "execution_count": 307,
   "id": "44154c94",
   "metadata": {},
   "outputs": [
    {
     "name": "stdout",
     "output_type": "stream",
     "text": [
      "             Cost of Living 2022  Local Purchasing Power  CPI % 21-22\n",
      "Country                                                              \n",
      "Afghanistan                26.71                   28.19          NaN\n",
      "Albania                    36.96                   28.12          NaN\n",
      "...                          ...                     ...          ...\n",
      "Vietnam                    38.12                   26.98          NaN\n",
      "Zimbabwe                   54.06                   22.59          NaN\n",
      "\n",
      "[136 rows x 3 columns]\n"
     ]
    }
   ],
   "source": [
    "#Removing unnecessary columns, blank rows, country duplicates\n",
    "\n",
    "joined_data= pd.concat([CostofLiving2022_IndexChange2, CPI_data_May_2022], axis=1)\n",
    "joined_data = joined_data.drop(columns=['Overall CoLiving Rank','Rent','CoLiving + Rent', 'Groceries', 'Restaurant Price', 'CPI Month Recorded'])\n",
    "joined_data = joined_data.rename(columns={'CoLiving': 'Cost of Living 2022', 'CPI %':'CPI % 21-22'})\n",
    "pd.set_option('display.max_rows', 5)\n",
    "print(joined_data.sort_index())"
   ]
  },
  {
   "cell_type": "code",
   "execution_count": 222,
   "id": "95a62560",
   "metadata": {
    "scrolled": false
   },
   "outputs": [
    {
     "name": "stdout",
     "output_type": "stream",
     "text": [
      "                              Cost of Living 2022  CPI % 21-22\n",
      "Country                                                       \n",
      "Afghanistan                                 26.71          NaN\n",
      "Albania                                     36.96          NaN\n",
      "Algeria                                     28.88          NaN\n",
      "Argentina                                   31.18        60.68\n",
      "Armenia                                     33.71          NaN\n",
      "Australia                                   75.89          NaN\n",
      "Austria                                     71.78         7.74\n",
      "Azerbaijan                                  31.14          NaN\n",
      "Bahamas                                     84.25          NaN\n",
      "Bahrain                                     58.36          NaN\n",
      "Bangladesh                                  33.41          NaN\n",
      "Barbados                                    79.92          NaN\n",
      "Belarus                                     32.63          NaN\n",
      "Belgium                                     73.59         8.97\n",
      "Belize                                      53.08          NaN\n",
      "Bermuda                                    147.77          NaN\n",
      "Bolivia                                     36.02          NaN\n",
      "Bosnia And Herzegovina                      36.57          NaN\n",
      "Botswana                                    39.13          NaN\n",
      "Brazil                                      30.99        11.73\n",
      "Brunei                                      47.49          NaN\n",
      "Bulgaria                                    38.39          NaN\n",
      "Cambodia                                    47.91          NaN\n",
      "Cameroon                                    38.95          NaN\n",
      "Canada                                      66.18         7.73\n",
      "Chile                                       45.43        11.55\n",
      "China                                       39.51          NaN\n",
      "China (People's Republic of)                  NaN         2.10\n",
      "Colombia                                    29.02         9.07\n",
      "Costa Rica                                  54.20         8.71\n",
      "Croatia                                     56.31          NaN\n",
      "Cuba                                        43.85          NaN\n",
      "Cyprus                                      59.93          NaN\n",
      "Czech Republic                              45.05        15.97\n",
      "Denmark                                     85.02         7.44\n",
      "Dominican Republic                          41.76          NaN\n",
      "Ecuador                                     40.62          NaN\n",
      "Egypt                                       29.55          NaN\n",
      "El Salvador                                 44.96          NaN\n",
      "Estonia                                     52.93        19.98\n",
      "Ethiopia                                    54.86          NaN\n",
      "Fiji                                        49.65          NaN\n",
      "Finland                                     72.71         6.96\n",
      "France                                      76.34         5.20\n",
      "Georgia                                     29.71          NaN\n",
      "Germany                                     66.34         7.91\n",
      "Ghana                                       38.52          NaN\n",
      "Greece                                      57.50        11.33\n",
      "Guatemala                                   44.23          NaN\n",
      "Honduras                                    42.73          NaN\n",
      "Hong Kong                                   77.90          NaN\n",
      "Hungary                                     40.09        10.70\n",
      "Iceland                                     90.19         7.59\n",
      "India                                       24.12         6.97\n",
      "Indonesia                                   36.86         3.55\n",
      "Iran                                        38.47          NaN\n",
      "Iraq                                        38.49          NaN\n",
      "Ireland                                     78.07         7.83\n",
      "Israel                                      82.52         4.15\n",
      "Italy                                       68.95         6.82\n",
      "Jamaica                                     54.36          NaN\n",
      "Japan                                       86.22         2.50\n",
      "Jordan                                      53.40          NaN\n",
      "Kenya                                       37.75          NaN\n",
      "Korea                                         NaN         5.40\n",
      "Kuwait                                      49.86          NaN\n",
      "Kyrgyzstan                                  24.70          NaN\n",
      "Latvia                                      49.18        16.86\n",
      "Lebanon                                     64.26          NaN\n",
      "Libya                                       66.06          NaN\n",
      "Lithuania                                   44.85        18.90\n",
      "Luxembourg                                  84.38         6.79\n",
      "Malaysia                                    38.09          NaN\n",
      "Malta                                       69.26          NaN\n",
      "Mauritius                                   51.75          NaN\n",
      "Mexico                                      30.93         7.65\n",
      "Moldova                                     33.52          NaN\n",
      "Mongolia                                    33.97          NaN\n",
      "Montenegro                                  38.68          NaN\n",
      "Morocco                                     34.44          NaN\n",
      "Mozambique                                  39.98          NaN\n",
      "Myanmar                                     38.47          NaN\n",
      "Namibia                                     38.12          NaN\n",
      "Nepal                                       28.17          NaN\n",
      "Netherlands                                 74.63         8.76\n",
      "New Zealand                                 71.83          NaN\n",
      "Nicaragua                                   43.70          NaN\n",
      "Nigeria                                     29.76          NaN\n",
      "North Macedonia                             32.96          NaN\n",
      "Norway                                      96.80         5.74\n",
      "Oman                                        49.42          NaN\n",
      "Pakistan                                    21.00          NaN\n",
      "Palestine                                   54.96          NaN\n",
      "Panama                                      55.02          NaN\n",
      "Paraguay                                    30.34          NaN\n",
      "Peru                                        37.64          NaN\n",
      "Philippines                                 39.25          NaN\n",
      "Poland                                      39.46        13.90\n",
      "Portugal                                    49.52         8.00\n",
      "Puerto Rico                                 70.02          NaN\n",
      "Qatar                                       67.54          NaN\n",
      "Romania                                     36.23          NaN\n",
      "Russia                                      33.66          NaN\n",
      "Rwanda                                      36.21          NaN\n",
      "Saudi Arabia                                49.15         2.24\n",
      "Serbia                                      36.98          NaN\n",
      "Seychelles                                  74.41          NaN\n",
      "Singapore                                   81.13          NaN\n",
      "Slovak Republic                               NaN        12.56\n",
      "Slovakia                                    46.80          NaN\n",
      "Slovenia                                    55.17         8.11\n",
      "Somalia                                     38.48          NaN\n",
      "South Africa                                37.52         6.61\n",
      "South Korea                                 75.93          NaN\n",
      "Spain                                       55.27         8.73\n",
      "Sri Lanka                                   32.93          NaN\n",
      "Suriname                                    47.95          NaN\n",
      "Sweden                                      72.31         7.27\n",
      "Switzerland                                125.69         2.94\n",
      "Syria                                       27.04          NaN\n",
      "Taiwan                                      61.95          NaN\n",
      "Tanzania                                    36.85          NaN\n",
      "Thailand                                    48.97          NaN\n",
      "Trinidad and Tobago                         56.66          NaN\n",
      "Tunisia                                     27.93          NaN\n",
      "Turkey                                      32.44          NaN\n",
      "Türkiye                                       NaN        73.50\n",
      "Uganda                                      30.96          NaN\n",
      "Ukraine                                     30.05          NaN\n",
      "United Arab Emirates                        62.98          NaN\n",
      "United Kingdom                              65.67         7.90\n",
      "United States                               72.47         8.58\n",
      "Uruguay                                     46.66          NaN\n",
      "Uzbekistan                                  27.37          NaN\n",
      "Vietnam                                     38.12          NaN\n",
      "Zimbabwe                                    54.06          NaN\n"
     ]
    }
   ],
   "source": [
    "Country_check= joined_data.drop(columns=['Local Purchasing Power'])\n",
    "pd.set_option('display.max_rows', None)\n",
    "print(Country_check.sort_index())"
   ]
  },
  {
   "cell_type": "code",
   "execution_count": 277,
   "id": "ba9eabe9",
   "metadata": {},
   "outputs": [
    {
     "name": "stdout",
     "output_type": "stream",
     "text": [
      "76\n",
      "62\n",
      "111\n",
      "136\n"
     ]
    }
   ],
   "source": [
    "print(joined_data.index.get_loc('China'))\n",
    "print(joined_data.index.get_loc('Slovakia'))\n",
    "print(joined_data.index.get_loc('Turkey'))\n",
    "print(joined_data.index.get_loc(76))"
   ]
  },
  {
   "cell_type": "code",
   "execution_count": 248,
   "id": "0bb29efd",
   "metadata": {},
   "outputs": [
    {
     "name": "stdout",
     "output_type": "stream",
     "text": [
      "Cost of Living 2022       39.51\n",
      "Local Purchasing Power    60.44\n",
      "CPI % 21-22                 NaN\n",
      "Name: China, dtype: float64\n",
      "Cost of Living 2022       46.80\n",
      "Local Purchasing Power    53.39\n",
      "CPI % 21-22                 NaN\n",
      "Name: Slovakia, dtype: float64\n",
      "Cost of Living 2022       32.44\n",
      "Local Purchasing Power    38.04\n",
      "CPI % 21-22                 NaN\n",
      "Name: Turkey, dtype: float64\n"
     ]
    }
   ],
   "source": [
    "print(joined_data.iloc[76])\n",
    "print(joined_data.iloc[62])\n",
    "print(joined_data.iloc[111])"
   ]
  },
  {
   "cell_type": "code",
   "execution_count": 257,
   "id": "9aac9ac7",
   "metadata": {
    "scrolled": true
   },
   "outputs": [],
   "source": [
    "joined_data.iloc[76] = [39.51,60.44,2.10]\n",
    "joined_data.iloc[62]= [46.80,53.39,12.56]\n",
    "joined_data.iloc[111]= [32.44,38.04,73.50]"
   ]
  },
  {
   "cell_type": "code",
   "execution_count": 278,
   "id": "4bde04ac",
   "metadata": {},
   "outputs": [],
   "source": [
    "Updated_joined = joined_data.drop(joined_data.index[136], inplace=True)"
   ]
  },
  {
   "cell_type": "code",
   "execution_count": 308,
   "id": "11532d30",
   "metadata": {},
   "outputs": [
    {
     "name": "stdout",
     "output_type": "stream",
     "text": [
      "                 Cost of Living 2022  Local Purchasing Power  CPI % 21-22\n",
      "Country                                                                  \n",
      "Bermuda                       147.77                   78.17          NaN\n",
      "Switzerland                   125.69                  114.83         2.94\n",
      "...                              ...                     ...          ...\n",
      "Slovak Republic                  NaN                     NaN        12.56\n",
      "Korea                            NaN                     NaN         5.40\n",
      "\n",
      "[136 rows x 3 columns]\n"
     ]
    }
   ],
   "source": [
    "pd.set_option('display.max_rows', 5)\n",
    "print(joined_data)"
   ]
  },
  {
   "cell_type": "code",
   "execution_count": 287,
   "id": "bfede572",
   "metadata": {},
   "outputs": [
    {
     "name": "stdout",
     "output_type": "stream",
     "text": [
      "                Cost of Living 2022  Local Purchasing Power  CPI % 21-22\n",
      "Country                                                                 \n",
      "Switzerland                  125.69                  114.83         2.94\n",
      "Norway                        96.80                   83.40         5.74\n",
      "Iceland                       90.19                   74.78         7.59\n",
      "Japan                         86.22                   78.88         2.50\n",
      "Denmark                       85.02                  101.27         7.44\n",
      "Luxembourg                    84.38                   99.86         6.79\n",
      "Israel                        82.52                   73.94         4.15\n",
      "Ireland                       78.07                   74.58         7.83\n",
      "France                        76.34                   76.21         5.20\n",
      "Netherlands                   74.63                   86.76         8.76\n",
      "Belgium                       73.59                   80.12         8.97\n",
      "Finland                       72.71                   93.94         6.96\n",
      "United States                 72.47                  108.29         8.58\n",
      "Sweden                        72.31                   94.04         7.27\n",
      "Austria                       71.78                   79.38         7.74\n",
      "Italy                         68.95                   61.80         6.82\n",
      "Germany                       66.34                   97.41         7.91\n",
      "Canada                        66.18                   83.22         7.73\n",
      "United Kingdom                65.67                   86.98         7.90\n",
      "Greece                        57.50                   40.75        11.33\n",
      "Spain                         55.27                   67.73         8.73\n",
      "Slovenia                      55.17                   60.61         8.11\n",
      "Costa Rica                    54.20                   36.43         8.71\n",
      "Estonia                       52.93                   66.08        19.98\n",
      "Portugal                      49.52                   47.10         8.00\n",
      "Latvia                        49.18                   49.49        16.86\n",
      "Saudi Arabia                  49.15                   93.84         2.24\n",
      "Slovakia                      46.80                   53.39        12.56\n",
      "Chile                         45.43                   35.55        11.55\n",
      "Czech Republic                45.05                   59.28        15.97\n",
      "Lithuania                     44.85                   55.57        18.90\n",
      "Hungary                       40.09                   46.30        10.70\n",
      "China                         39.51                   60.44         2.10\n",
      "Poland                        39.46                   52.30        13.90\n",
      "South Africa                  37.52                   73.52         6.61\n",
      "Indonesia                     36.86                   22.19         3.55\n",
      "Turkey                        32.44                   38.04        73.50\n",
      "Argentina                     31.18                   43.38        60.68\n",
      "Brazil                        30.99                   30.36        11.73\n",
      "Mexico                        30.93                   38.17         7.65\n",
      "Colombia                      29.02                   27.92         9.07\n",
      "India                         24.12                   50.55         6.97\n"
     ]
    }
   ],
   "source": [
    "Updated_joined = joined_data.dropna(axis=0)\n",
    "print(Updated_joined)"
   ]
  },
  {
   "cell_type": "code",
   "execution_count": 309,
   "id": "3fa57649",
   "metadata": {},
   "outputs": [
    {
     "name": "stdout",
     "output_type": "stream",
     "text": [
      "True\n",
      "    LOCATION INDICATOR SUBJECT MEASURE FREQUENCY  TIME         Value  \\\n",
      "0        AUS    AVWAGE     TOT     USD         A  2017  53437.058754   \n",
      "1        AUS    AVWAGE     TOT     USD         A  2018  53514.827225   \n",
      "..       ...       ...     ...     ...       ...   ...           ...   \n",
      "142      LTU    AVWAGE     TOT     USD         A  2019  29695.402612   \n",
      "143      LTU    AVWAGE     TOT     USD         A  2020  31810.980085   \n",
      "\n",
      "     Flag Codes  \n",
      "0           NaN  \n",
      "1           NaN  \n",
      "..          ...  \n",
      "142         NaN  \n",
      "143         NaN  \n",
      "\n",
      "[144 rows x 8 columns]\n"
     ]
    },
    {
     "data": {
      "text/plain": [
       "(144, 8)"
      ]
     },
     "execution_count": 309,
     "metadata": {},
     "output_type": "execute_result"
    }
   ],
   "source": [
    "#Importing OECD Average Wages 2020 as csv to dataframe\n",
    "import pandas as pd\n",
    "filename= (r'C:\\Users\\linds\\OneDrive\\Documents\\BA Project/Average_Wages.csv')\n",
    "Average_Wages_2020= pd.read_csv(filename)\n",
    "\n",
    "print(isinstance(CPI_data_2022, pd.DataFrame))\n",
    "\n",
    "pd.set_option('display.max_columns', 10)\n",
    "print(Average_Wages_2020)\n",
    "\n",
    "Average_Wages_2020.shape"
   ]
  },
  {
   "cell_type": "code",
   "execution_count": 301,
   "id": "32258893",
   "metadata": {},
   "outputs": [
    {
     "name": "stdout",
     "output_type": "stream",
     "text": [
      "    LOCATION     Value\n",
      "3        AUS  55206.39\n",
      "7        AUT  53131.85\n",
      "11       BEL  54326.60\n",
      "15       CAN  55342.04\n",
      "19       CZE  29884.59\n",
      "23       DNK  58429.65\n",
      "27       FIN  46229.57\n",
      "31       FRA  45580.70\n",
      "35       DEU  53745.00\n",
      "39       GRC  27207.32\n",
      "43       HUN  25408.61\n",
      "47       IRL  49473.55\n",
      "51       ITA  37769.10\n",
      "55       JPN  38514.87\n",
      "59       KOR  41960.27\n",
      "63       LUX  65854.01\n",
      "67       MEX  16229.92\n",
      "71       NLD  58827.50\n",
      "75       NOR  55779.83\n",
      "79       POL  32527.05\n",
      "83       PRT  28410.04\n",
      "87       SVK  23619.00\n",
      "91       ESP  37922.20\n",
      "95       SWE  47020.49\n",
      "99       CHE  64824.38\n",
      "103      GBR  47147.20\n",
      "107      USA  69391.81\n",
      "111      EST  30720.26\n",
      "115      ISR  39321.71\n",
      "119      SVN  41445.17\n",
      "123     OECD  49165.36\n",
      "127      ISL  67488.01\n",
      "131      NZL  45269.48\n",
      "135      CHL  26728.92\n",
      "139      LVA  29876.42\n",
      "143      LTU  31810.98\n"
     ]
    }
   ],
   "source": [
    "#Data cleanup of OECD Average Wages 2020\n",
    "Remove_Columns = ['INDICATOR','SUBJECT','MEASURE','FREQUENCY','Flag Codes','TIME']\n",
    "Average_Wages_2020_Updated = Average_Wages_2020.drop(Remove_Columns, axis=1)\n",
    "Average_Wages_2020_Updated = Average_Wages_2020_Updated.drop_duplicates(subset=['LOCATION'], keep='last')\n",
    "Average_Wages_2020_Updated = Average_Wages_2020_Updated.round({'Value': 2})\n",
    "print(Average_Wages_2020_Updated)"
   ]
  },
  {
   "cell_type": "code",
   "execution_count": 332,
   "id": "2abf7fa8",
   "metadata": {},
   "outputs": [
    {
     "name": "stdout",
     "output_type": "stream",
     "text": [
      "                $ Average_Wages 2020\n",
      "Country                             \n",
      "Australia                   55206.39\n",
      "Austria                     53131.85\n",
      "Belgium                     54326.60\n",
      "Canada                      55342.04\n",
      "Czech Republic              29884.59\n",
      "...                              ...\n",
      "Iceland                     67488.01\n",
      "New Zealand                 45269.48\n",
      "Chile                       26728.92\n",
      "Latvia                      29876.42\n",
      "Lithuania                   31810.98\n",
      "\n",
      "[36 rows x 1 columns]\n"
     ]
    }
   ],
   "source": [
    "Average_Wages_2020_Updated_Names = Average_Wages_2020_Updated.rename(columns = {'LOCATION':'Country', 'Value':'$ Average_Wages 2020'})\n",
    "Country_names = {'AUS':'Australia','AUT':'Austria','BEL':'Belgium','CAN':'Canada','CZE':'Czech Republic','DNK':'Denmark','FIN':'Finland', 'FRA':'France','DEU':'Germany', 'GRC':'Greece','HUN':'Hungary','IRL':'Ireland','ITA': 'Italy', 'JPN':'Japan', 'KOR':'Korea', 'LUX':'Luxembourg','MEX': 'Mexico','NLD':'Netherlands', 'NOR':'Norway', 'POL':'Poland', 'PRT':'Portugal', 'SVK':'Slovakia', 'ESP':'Spain', 'SWE':'Sweden', 'CHE':'Switzerland', 'GBR':'United Kingdom', 'USA':'United States', 'EST':'Estonia', 'ISR':'Israel', 'SVN':'Slovenia', 'OECD':'OECD', 'ISL':'Iceland', 'NZL':'New Zealand', 'CHL':'Chile', 'LVA':'Latvia', 'LTU':'Lithuania'}\n",
    "Average_Wages_2020_Updated_Names= Average_Wages_2020_Updated_Names.replace({\"Country\": Country_names})\n",
    "Average_Wages_2020_Updated_Names= Average_Wages_2020_Updated_Names.set_index(\"Country\")\n",
    "pd.set_option('display.max_rows', 10)\n",
    "print(Average_Wages_2020_Updated_Names)"
   ]
  },
  {
   "cell_type": "code",
   "execution_count": 334,
   "id": "92f73b8f",
   "metadata": {},
   "outputs": [
    {
     "name": "stdout",
     "output_type": "stream",
     "text": [
      "                $ Average_Wages 2020\n",
      "Country                             \n",
      "Australia                   55206.39\n",
      "Austria                     53131.85\n",
      "Belgium                     54326.60\n",
      "Canada                      55342.04\n",
      "Czech Republic              29884.59\n",
      "...                              ...\n",
      "Iceland                     67488.01\n",
      "New Zealand                 45269.48\n",
      "Chile                       26728.92\n",
      "Latvia                      29876.42\n",
      "Lithuania                   31810.98\n",
      "\n",
      "[36 rows x 1 columns]\n",
      "30\n"
     ]
    }
   ],
   "source": [
    "pd.set_option('display.max_rows', 10)\n",
    "print(Average_Wages_2020_Updated_Names)\n",
    "print(Average_Wages_2020_Updated_Names.index.get_loc('OECD'))"
   ]
  },
  {
   "cell_type": "code",
   "execution_count": 331,
   "id": "10608073",
   "metadata": {},
   "outputs": [
    {
     "name": "stdout",
     "output_type": "stream",
     "text": [
      "                $ Average_Wages 2020\n",
      "Country                             \n",
      "Australia                   55206.39\n",
      "Austria                     53131.85\n",
      "Belgium                     54326.60\n",
      "Canada                      55342.04\n",
      "Czech Republic              29884.59\n",
      "Denmark                     58429.65\n",
      "Finland                     46229.57\n",
      "France                      45580.70\n",
      "Germany                     53745.00\n",
      "Greece                      27207.32\n",
      "Hungary                     25408.61\n",
      "Ireland                     49473.55\n",
      "Italy                       37769.10\n",
      "Japan                       38514.87\n",
      "Korea                       41960.27\n",
      "Luxembourg                  65854.01\n",
      "Mexico                      16229.92\n",
      "Netherlands                 58827.50\n",
      "Norway                      55779.83\n",
      "Poland                      32527.05\n",
      "Portugal                    28410.04\n",
      "Slovakia                    23619.00\n",
      "Spain                       37922.20\n",
      "Sweden                      47020.49\n",
      "Switzerland                 64824.38\n",
      "United Kingdom              47147.20\n",
      "United States               69391.81\n",
      "Estonia                     30720.26\n",
      "Israel                      39321.71\n",
      "Slovenia                    41445.17\n",
      "Iceland                     67488.01\n",
      "New Zealand                 45269.48\n",
      "Chile                       26728.92\n",
      "Latvia                      29876.42\n",
      "Lithuania                   31810.98\n"
     ]
    }
   ],
   "source": [
    "Updated_Average_Wage_Countries = Average_Wages_2020_Updated_Names.drop(Average_Wages_2020_Updated_Names.index[30], inplace=True)\n",
    "print(Average_Wages_2020_Updated_Names)"
   ]
  },
  {
   "cell_type": "code",
   "execution_count": 335,
   "id": "0e4afba9",
   "metadata": {},
   "outputs": [
    {
     "name": "stdout",
     "output_type": "stream",
     "text": [
      "                Cost of Living 2022  Local Purchasing Power  CPI % 21-22  \\\n",
      "Country                                                                    \n",
      "Switzerland                  125.69                  114.83         2.94   \n",
      "Norway                        96.80                   83.40         5.74   \n",
      "Iceland                       90.19                   74.78         7.59   \n",
      "Japan                         86.22                   78.88         2.50   \n",
      "Denmark                       85.02                  101.27         7.44   \n",
      "...                             ...                     ...          ...   \n",
      "Czech Republic                45.05                   59.28        15.97   \n",
      "Lithuania                     44.85                   55.57        18.90   \n",
      "Hungary                       40.09                   46.30        10.70   \n",
      "Poland                        39.46                   52.30        13.90   \n",
      "Mexico                        30.93                   38.17         7.65   \n",
      "\n",
      "                $ Average_Wages 2020  \n",
      "Country                               \n",
      "Switzerland                 64824.38  \n",
      "Norway                      55779.83  \n",
      "Iceland                     67488.01  \n",
      "Japan                       38514.87  \n",
      "Denmark                     58429.65  \n",
      "...                              ...  \n",
      "Czech Republic              29884.59  \n",
      "Lithuania                   31810.98  \n",
      "Hungary                     25408.61  \n",
      "Poland                      32527.05  \n",
      "Mexico                      16229.92  \n",
      "\n",
      "[32 rows x 4 columns]\n"
     ]
    }
   ],
   "source": [
    "Final_df= pd.merge(Updated_joined, Average_Wages_2020_Updated_Names, left_index=True, right_index=True)\n",
    "print (Final_df)"
   ]
  },
  {
   "cell_type": "code",
   "execution_count": null,
   "id": "d358c56a",
   "metadata": {},
   "outputs": [],
   "source": []
  }
 ],
 "metadata": {
  "kernelspec": {
   "display_name": "Python 3",
   "language": "python",
   "name": "python3"
  },
  "language_info": {
   "codemirror_mode": {
    "name": "ipython",
    "version": 3
   },
   "file_extension": ".py",
   "mimetype": "text/x-python",
   "name": "python",
   "nbconvert_exporter": "python",
   "pygments_lexer": "ipython3",
   "version": "3.8.8"
  }
 },
 "nbformat": 4,
 "nbformat_minor": 5
}
